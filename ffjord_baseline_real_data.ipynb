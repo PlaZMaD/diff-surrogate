{
 "cells": [
  {
   "cell_type": "code",
   "execution_count": 1,
   "metadata": {},
   "outputs": [
    {
     "name": "stderr",
     "output_type": "stream",
     "text": [
      "COMET INFO: old comet version (1.0.54) detected. current: 1.0.55 please update your comet lib with command: `pip install --no-cache-dir --upgrade comet_ml`\n",
      "COMET WARNING: Failing to collect the installed os packages\n",
      "COMET INFO: Experiment is live on comet.ml https://www.comet.ml/schattengenie/diff-sim-ffjord/f94defd885c447569cb45b2e857a5b22\n",
      "\n"
     ]
    }
   ],
   "source": [
    "import comet_ml\n",
    "from comet_ml import API\n",
    "from comet_ml import Experiment\n",
    "\n",
    "experiment = Experiment('HU8yNOX96Ang8huavKsvrTbiK', project_name=\"diff_sim_ffjord\", workspace=\"schattengenie\")"
   ]
  },
  {
   "cell_type": "code",
   "execution_count": 39,
   "metadata": {},
   "outputs": [
    {
     "name": "stdout",
     "output_type": "stream",
     "text": [
      "Populating the interactive namespace from numpy and matplotlib\n"
     ]
    }
   ],
   "source": [
    "from model import YModel, R\n",
    "\n",
    "import torch.nn as nn\n",
    "import torch.nn.functional as F\n",
    "import torch.optim as optim\n",
    "import torch\n",
    "\n",
    "import numpy as np\n",
    "import pandas as pd\n",
    "from tqdm import trange\n",
    "%pylab inline\n",
    "\n",
    "import matplotlib.pyplot as plt\n",
    "import seaborn as sns"
   ]
  },
  {
   "cell_type": "code",
   "execution_count": 3,
   "metadata": {},
   "outputs": [],
   "source": [
    "df = pd.read_csv('./simple_surr.csv')\n",
    "df.drop(columns=['Unnamed: 0'], inplace=True)"
   ]
  },
  {
   "cell_type": "markdown",
   "metadata": {},
   "source": [
    "## Recovering conditional density with FFJORD"
   ]
  },
  {
   "cell_type": "markdown",
   "metadata": {},
   "source": [
    "# All needed imports"
   ]
  },
  {
   "cell_type": "code",
   "execution_count": 4,
   "metadata": {},
   "outputs": [],
   "source": [
    "device = torch.device('cuda:0')"
   ]
  },
  {
   "cell_type": "code",
   "execution_count": 5,
   "metadata": {},
   "outputs": [],
   "source": [
    "# !pip install git+https://github.com/rtqichen/torchdiffeq.git"
   ]
  },
  {
   "cell_type": "code",
   "execution_count": 6,
   "metadata": {},
   "outputs": [],
   "source": [
    "import sys\n",
    "import torch\n",
    "import torch.optim as optim\n",
    "from IPython.display import clear_output\n",
    "\n",
    "sys.path.append('./ffjord/')\n",
    "import ffjord.lib.utils as utils\n",
    "from ffjord.lib.visualize_flow import visualize_transform\n",
    "import ffjord.lib.layers.odefunc as odefunc\n",
    "from ffjord.train_misc import standard_normal_logprob\n",
    "from ffjord.train_misc import count_nfe, count_parameters, count_total_time\n",
    "from ffjord.train_misc import add_spectral_norm, spectral_norm_power_iteration\n",
    "from ffjord.train_misc import create_regularization_fns, get_regularization, append_regularization_to_log\n",
    "from ffjord.train_misc import build_model_tabular\n",
    "import lib.layers as layers"
   ]
  },
  {
   "cell_type": "code",
   "execution_count": 7,
   "metadata": {},
   "outputs": [
    {
     "name": "stdout",
     "output_type": "stream",
     "text": [
      "{'tanh': Tanh(), 'relu': ReLU(), 'softplus': Softplus(beta=1, threshold=20), 'elu': ELU(alpha=1.0), 'swish': Swish(), 'square': Lambda(), 'identity': Lambda()}\n"
     ]
    }
   ],
   "source": [
    "SOLVERS = [\"dopri5\", \"bdf\", \"rk4\", \"midpoint\", 'adams', 'explicit_adams', 'fixed_adams']\n",
    "\n",
    "print(odefunc.NONLINEARITIES)"
   ]
  },
  {
   "cell_type": "code",
   "execution_count": 8,
   "metadata": {},
   "outputs": [],
   "source": [
    "def set_cnf_options(model, solver, rademacher, residual, atol=1e-5, rtol=1e-5):\n",
    "\n",
    "    def _set(module):\n",
    "        if isinstance(module, layers.CNF):\n",
    "            # Set training settings\n",
    "            module.solver = solver\n",
    "            module.atol = atol\n",
    "            module.rtol = rtol\n",
    "\n",
    "            # If using fixed-grid adams, restrict order to not be too high.\n",
    "            if solver in ['fixed_adams', 'explicit_adams']:\n",
    "                module.solver_options['max_order'] = 4\n",
    "\n",
    "        if isinstance(module, layers.ODEfunc):\n",
    "            module.rademacher = rademacher\n",
    "            module.residual = residual\n",
    "\n",
    "    model.apply(_set)\n",
    "    \n",
    "# layer_type - [\"ignore\", \"concat\", \"concat_v2\", \"squash\", \"concatsquash\", \"concatcoord\", \"hyper\", \"blend\"]\n",
    "def build_model_tabular(dims=2,\n",
    "                        layer_type='concatsquash', \n",
    "                        nonlinearity='relu', \n",
    "                        residual=False, \n",
    "                        rademacher=False,\n",
    "                        train_T=True,\n",
    "                        solver='dopri5',\n",
    "                        time_length=0.1,\n",
    "                        divergence_fn='brute_force', # [\"brute_force\", \"approximate\"]\n",
    "                        hidden_dims=(32, 32), \n",
    "                        num_blocks=1, batch_norm=False, \n",
    "                        bn_lag=0, regularization_fns=None):\n",
    "\n",
    "\n",
    "    def build_cnf():\n",
    "        diffeq = layers.ODEnet(\n",
    "            hidden_dims=hidden_dims,\n",
    "            input_shape=(dims,),\n",
    "            strides=None,\n",
    "            conv=False,\n",
    "            layer_type=layer_type,\n",
    "            nonlinearity=nonlinearity,\n",
    "        )\n",
    "        odefunc = layers.ODEfunc(\n",
    "            diffeq=diffeq,\n",
    "            divergence_fn=divergence_fn,\n",
    "            residual=residual,\n",
    "            rademacher=rademacher,\n",
    "        )\n",
    "        cnf = layers.CNF(\n",
    "            odefunc=odefunc,\n",
    "            T=time_length,\n",
    "            train_T=train_T,\n",
    "            regularization_fns=regularization_fns,\n",
    "            solver=solver,\n",
    "        )\n",
    "        return cnf\n",
    "\n",
    "    chain = [build_cnf() for _ in range(num_blocks)]\n",
    "    if batch_norm:\n",
    "        bn_layers = [layers.MovingBatchNorm1d(dims, bn_lag=bn_lag) for _ in range(num_blocks)]\n",
    "        bn_chain = [layers.MovingBatchNorm1d(dims, bn_lag=bn_lag)]\n",
    "        for a, b in zip(chain, bn_layers):\n",
    "            bn_chain.append(a)\n",
    "            bn_chain.append(b)\n",
    "        chain = bn_chain\n",
    "    model = layers.SequentialFlow(chain)\n",
    "\n",
    "    set_cnf_options(model, solver, rademacher, residual)\n",
    "\n",
    "    return model\n"
   ]
  },
  {
   "cell_type": "code",
   "execution_count": 9,
   "metadata": {},
   "outputs": [],
   "source": [
    "import ffjord.lib.layers.wrappers.cnf_regularization as reg_lib\n",
    "import six\n",
    "\n",
    "REGULARIZATION_FNS = {\n",
    "    \"l1int\": reg_lib.l1_regularzation_fn,\n",
    "    \"l2int\": reg_lib.l2_regularzation_fn,\n",
    "    \"dl2int\": reg_lib.directional_l2_regularization_fn,\n",
    "    \"JFrobint\": reg_lib.jacobian_frobenius_regularization_fn,\n",
    "    \"JdiagFrobint\": reg_lib.jacobian_diag_frobenius_regularization_fn,\n",
    "    \"JoffdiagFrobint\": reg_lib.jacobian_offdiag_frobenius_regularization_fn,\n",
    "}\n",
    "\n",
    "def create_regularization_fns(regs={'l1int': 1., 'JFrobint': 1.}):\n",
    "    regularization_fns = []\n",
    "    regularization_coeffs = []\n",
    "\n",
    "    for arg_key, reg_fn in six.iteritems(REGULARIZATION_FNS):\n",
    "        if arg_key in regs:\n",
    "            regularization_fns.append(reg_fn)\n",
    "            regularization_coeffs.append(regs[arg_key])\n",
    "\n",
    "    regularization_fns = tuple(regularization_fns)\n",
    "    regularization_coeffs = tuple(regularization_coeffs)\n",
    "    return regularization_fns, regularization_coeffs\n",
    "\n",
    "\n",
    "def get_regularization(model, regularization_coeffs):\n",
    "    if len(regularization_coeffs) == 0:\n",
    "        return None\n",
    "\n",
    "    acc_reg_states = tuple([0.] * len(regularization_coeffs))\n",
    "    for module in model.modules():\n",
    "        if isinstance(module, layers.CNF):\n",
    "            acc_reg_states = tuple(acc + reg for acc, reg in zip(acc_reg_states, module.get_regularization_states()))\n",
    "    return acc_reg_states"
   ]
  },
  {
   "cell_type": "code",
   "execution_count": 10,
   "metadata": {},
   "outputs": [],
   "source": [
    "import warnings\n",
    "warnings.filterwarnings(\"ignore\")"
   ]
  },
  {
   "cell_type": "code",
   "execution_count": 11,
   "metadata": {},
   "outputs": [],
   "source": [
    "def get_transforms(model):\n",
    "\n",
    "    def sample_fn(z, logpz=None):\n",
    "        if logpz is not None:\n",
    "            return model(z, logpz, reverse=True)\n",
    "        else:\n",
    "            return model(z, reverse=True)\n",
    "\n",
    "    def density_fn(x, logpx=None):\n",
    "        if logpx is not None:\n",
    "            return model(x, logpx, reverse=False)\n",
    "        else:\n",
    "            return model(x, reverse=False)\n",
    "\n",
    "    return sample_fn, density_fn"
   ]
  },
  {
   "cell_type": "code",
   "execution_count": 12,
   "metadata": {},
   "outputs": [],
   "source": [
    "import math\n",
    "\n",
    "def standard_normal_logprob(z, data):\n",
    "    logZ = -0.5 * math.log(2 * math.pi)\n",
    "    data_ref = torch.stack([torch.zeros(len(data)).to(data.device), \n",
    "                            data[:, 1],\n",
    "                            data[:, 2]], dim=1).float()\n",
    "    zpow = (z - data_ref).pow(2)\n",
    "    sigmas = torch.tensor([1., 1., 1.]).float().to(data.device)\n",
    "    return logZ - zpow / 2 / sigmas\n",
    "\n",
    "\n",
    "def compute_loss(model, data, batch_size=None):\n",
    "    # load data\n",
    "    #x = sample_data(data, batch_size=batch_size)\n",
    "    #x = torch.from_numpy(x).float().to(device)\n",
    "    # zero = torch.stack([torch.zeros(data.shape[0]).to(data.device), data[:, 1], data[:, 2]], dim=1).float()\n",
    "    zero = torch.zeros(data.shape[0], 1).to(data.device)\n",
    "    # print(zero.shape)\n",
    "    # transform to z\n",
    "    #zero[:, 2] = data[:, 2].detach()\n",
    "    z, delta_logp = model(data, zero)\n",
    "\n",
    "    # compute log q(z)\n",
    "    logpz = standard_normal_logprob(z, data).sum(1, keepdim=True)\n",
    "\n",
    "    logpx = logpz - delta_logp\n",
    "    loss = -torch.mean(logpx)\n",
    "    return loss"
   ]
  },
  {
   "cell_type": "markdown",
   "metadata": {},
   "source": [
    "# Sampling train dataset"
   ]
  },
  {
   "cell_type": "code",
   "execution_count": 48,
   "metadata": {},
   "outputs": [],
   "source": [
    "def cart2sph(x, y, z):\n",
    "    hxy = np.hypot(x, y)\n",
    "    r = np.hypot(hxy, z)\n",
    "    el = np.arctan2(z, hxy)\n",
    "    az = np.arctan2(y, x)\n",
    "    return az, np.pi / 2 - el, r"
   ]
  },
  {
   "cell_type": "code",
   "execution_count": 49,
   "metadata": {
    "scrolled": true
   },
   "outputs": [],
   "source": [
    "start_theta = df.start_theta.values\n",
    "start_phi = df.start_phi.values"
   ]
  },
  {
   "cell_type": "code",
   "execution_count": 50,
   "metadata": {},
   "outputs": [],
   "source": [
    "az, el, r = cart2sph(df.start_px.values, df.start_py.values, df.start_pz.values)"
   ]
  },
  {
   "cell_type": "code",
   "execution_count": 52,
   "metadata": {},
   "outputs": [
    {
     "data": {
      "text/plain": [
       "<matplotlib.collections.PathCollection at 0x7fdc724f1048>"
      ]
     },
     "execution_count": 52,
     "metadata": {},
     "output_type": "execute_result"
    },
    {
     "data": {
      "image/png": "[encoded data removed]",
      "text/plain": [
       "<Figure size 432x288 with 1 Axes>"
      ]
     },
     "metadata": {
      "needs_background": "light"
     },
     "output_type": "display_data"
    }
   ],
   "source": [
    "plt.scatter(start_phi, az)"
   ]
  },
  {
   "cell_type": "code",
   "execution_count": 55,
   "metadata": {},
   "outputs": [
    {
     "data": {
      "text/plain": [
       "<matplotlib.collections.PathCollection at 0x7fdbe02aa160>"
      ]
     },
     "execution_count": 55,
     "metadata": {},
     "output_type": "execute_result"
    },
    {
     "data": {
      "image/png": "[encoded data removed]",
      "text/plain": [
       "<Figure size 432x288 with 1 Axes>"
      ]
     },
     "metadata": {
      "needs_background": "light"
     },
     "output_type": "display_data"
    }
   ],
   "source": [
    "plt.scatter(df.loc[df.magn_len == 10, ]['hit_x'], df.loc[df.magn_len == 10, ]['hit_y'])"
   ]
  },
  {
   "cell_type": "code",
   "execution_count": 57,
   "metadata": {},
   "outputs": [
    {
     "data": {
      "text/plain": [
       "(array([16., 32., 34., 31., 30., 34., 25., 29., 30., 32., 33., 29., 24.,\n",
       "        30., 25., 24., 28., 35., 24., 31., 19., 34., 22., 29., 21., 27.,\n",
       "        26., 41., 31., 27., 28., 21., 25., 35., 32., 18., 31., 39., 24.,\n",
       "        39., 23., 39., 26., 23., 35., 25., 31., 40., 26., 16., 29., 20.,\n",
       "        34., 35., 28., 23., 32., 28., 23., 35., 36., 31., 35., 37., 44.,\n",
       "        27., 34., 33., 23., 31., 21., 27., 28., 32., 23., 41., 23., 28.,\n",
       "        32., 28., 31., 24., 26., 46., 20., 27., 29., 35., 29., 22., 23.,\n",
       "        35., 28., 28., 18., 12., 16., 12.,  2.,  3.]),\n",
       " array([0.94452167, 1.03499656, 1.12547145, 1.21594635, 1.30642124,\n",
       "        1.39689614, 1.48737103, 1.57784592, 1.66832082, 1.75879571,\n",
       "        1.84927061, 1.9397455 , 2.03022039, 2.12069529, 2.21117018,\n",
       "        2.30164508, 2.39211997, 2.48259486, 2.57306976, 2.66354465,\n",
       "        2.75401955, 2.84449444, 2.93496933, 3.02544423, 3.11591912,\n",
       "        3.20639402, 3.29686891, 3.3873438 , 3.4778187 , 3.56829359,\n",
       "        3.65876849, 3.74924338, 3.83971828, 3.93019317, 4.02066806,\n",
       "        4.11114296, 4.20161785, 4.29209275, 4.38256764, 4.47304253,\n",
       "        4.56351743, 4.65399232, 4.74446722, 4.83494211, 4.925417  ,\n",
       "        5.0158919 , 5.10636679, 5.19684169, 5.28731658, 5.37779147,\n",
       "        5.46826637, 5.55874126, 5.64921616, 5.73969105, 5.83016594,\n",
       "        5.92064084, 6.01111573, 6.10159063, 6.19206552, 6.28254041,\n",
       "        6.37301531, 6.4634902 , 6.5539651 , 6.64443999, 6.73491488,\n",
       "        6.82538978, 6.91586467, 7.00633957, 7.09681446, 7.18728935,\n",
       "        7.27776425, 7.36823914, 7.45871404, 7.54918893, 7.63966383,\n",
       "        7.73013872, 7.82061361, 7.91108851, 8.0015634 , 8.0920383 ,\n",
       "        8.18251319, 8.27298808, 8.36346298, 8.45393787, 8.54441277,\n",
       "        8.63488766, 8.72536255, 8.81583745, 8.90631234, 8.99678724,\n",
       "        9.08726213, 9.17773702, 9.26821192, 9.35868681, 9.44916171,\n",
       "        9.5396366 , 9.63011149, 9.72058639, 9.81106128, 9.90153618,\n",
       "        9.99201107]),\n",
       " <a list of 100 Patch objects>)"
      ]
     },
     "execution_count": 57,
     "metadata": {},
     "output_type": "execute_result"
    },
    {
     "data": {
      "image/png": "[encoded data removed]",
      "text/plain": [
       "<Figure size 432x288 with 1 Axes>"
      ]
     },
     "metadata": {
      "needs_background": "light"
     },
     "output_type": "display_data"
    }
   ],
   "source": [
    "plt.hist(df.start_pz, bins=100)"
   ]
  },
  {
   "cell_type": "code",
   "execution_count": null,
   "metadata": {},
   "outputs": [],
   "source": []
  },
  {
   "cell_type": "code",
   "execution_count": 26,
   "metadata": {},
   "outputs": [],
   "source": [
    "init_cond = np.c_[np.sqrt(df[['start_px', 'start_py', 'start_pz']].pow(2).sum(axis=1).values), df[['start_theta', 'start_phi', 'magn_len']].values]\n",
    "result = df[['hit_x', 'hit_y', 'hit_z']].values"
   ]
  },
  {
   "cell_type": "code",
   "execution_count": 42,
   "metadata": {},
   "outputs": [
    {
     "data": {
      "text/plain": [
       "((2796, 6), (2796, 3))"
      ]
     },
     "execution_count": 42,
     "metadata": {},
     "output_type": "execute_result"
    }
   ],
   "source": [
    "init_cond.shape, result.shape"
   ]
  },
  {
   "cell_type": "code",
   "execution_count": 43,
   "metadata": {},
   "outputs": [],
   "source": [
    "data = np.concatenate([init_cond, result], axis=1)"
   ]
  },
  {
   "cell_type": "code",
   "execution_count": 44,
   "metadata": {},
   "outputs": [],
   "source": [
    "data = torch.tensor(data).to(device).float()"
   ]
  },
  {
   "cell_type": "code",
   "execution_count": 45,
   "metadata": {},
   "outputs": [],
   "source": [
    "import math\n",
    "\n",
    "def standard_normal_logprob(z, data):\n",
    "    logZ = -0.5 * math.log(2 * math.pi)\n",
    "    data_ref = torch.stack([\n",
    "        data[:, 0],\n",
    "        data[:, 1],\n",
    "        data[:, 2],\n",
    "        data[:, 3],\n",
    "        data[:, 4],\n",
    "        data[:, 5],\n",
    "        torch.zeros(len(data)).to(data.device), \n",
    "        torch.zeros(len(data)).to(data.device), \n",
    "        torch.zeros(len(data)).to(data.device)\n",
    "    ], dim=1).float()\n",
    "    zpow = (z - data_ref).pow(2)\n",
    "    sigmas = torch.tensor([1., 1., 1., 1., 1., 1., 1., 1., 1.]).float().to(data.device)\n",
    "    return logZ - zpow / 2 / sigmas\n",
    "\n",
    "def compute_loss(model, data, batch_size=None):\n",
    "    # load data\n",
    "    #x = sample_data(data, batch_size=batch_size)\n",
    "    #x = torch.from_numpy(x).float().to(device)\n",
    "    # zero = torch.stack([torch.zeros(data.shape[0]).to(data.device), data[:, 1], data[:, 2]], dim=1).float()\n",
    "    zero = torch.zeros(data.shape[0], 1).to(data.device)\n",
    "    # print(zero.shape)\n",
    "    # transform to z\n",
    "    #zero[:, 2] = data[:, 2].detach()\n",
    "    z, delta_logp = model(data, zero)\n",
    "\n",
    "    # compute log q(z)\n",
    "    logpz = standard_normal_logprob(z, data).sum(1, keepdim=True)\n",
    "\n",
    "    logpx = logpz - delta_logp\n",
    "    loss = -torch.mean(logpx)\n",
    "    return loss"
   ]
  },
  {
   "cell_type": "markdown",
   "metadata": {},
   "source": [
    "# Defining FFJORD model"
   ]
  },
  {
   "cell_type": "code",
   "execution_count": 68,
   "metadata": {},
   "outputs": [],
   "source": [
    "regularization_fns = None\n",
    "#regularization_fns, regularization_coeffs = create_regularization_fns()\n",
    "model = build_model_tabular(dims=data.shape[1], \n",
    "                            num_blocks=1, \n",
    "                            hidden_dims=(16, 16), bn_lag=0.1,\n",
    "                            regularization_fns=regularization_fns).to(device)"
   ]
  },
  {
   "cell_type": "code",
   "execution_count": 69,
   "metadata": {},
   "outputs": [],
   "source": [
    "from torch.nn.utils import clip_grad_norm\n",
    "from tqdm import tqdm"
   ]
  },
  {
   "cell_type": "code",
   "execution_count": 70,
   "metadata": {},
   "outputs": [],
   "source": [
    "optimizer = optim.Adam(model.parameters(), lr=1e-1, weight_decay=1e-5)\n",
    "\n",
    "loss_meter = utils.RunningAverageMeter(0.5)\n",
    "nfef_meter = utils.RunningAverageMeter(0.5)\n",
    "nfeb_meter = utils.RunningAverageMeter(0.5)"
   ]
  },
  {
   "cell_type": "code",
   "execution_count": 71,
   "metadata": {
    "scrolled": true
   },
   "outputs": [
    {
     "name": "stderr",
     "output_type": "stream",
     "text": [
      "\n",
      "\n",
      "\n",
      "\n",
      "\n",
      "100%|██████████| 40/40 [07:29<00:00, 20.16s/it]\u001b[A\u001b[A\u001b[A\u001b[A\u001b[A"
     ]
    },
    {
     "name": "stdout",
     "output_type": "stream",
     "text": [
      "206248.6073151965 1319.0\n"
     ]
    }
   ],
   "source": [
    "model.train();\n",
    "for i in tqdm(range(40)):\n",
    "    optimizer.zero_grad()\n",
    "    \n",
    "    loss = compute_loss(model, data)\n",
    "\n",
    "    loss_meter.update(loss.item())\n",
    "    # nfe_forward = count_nfe(model)\n",
    "\n",
    "    loss.backward()\n",
    "    # clip_grad_norm(model.parameters(), 5)\n",
    "    optimizer.step()\n",
    "    if loss.item() < 4:\n",
    "        break\n",
    "    nfe_total = count_nfe(model)\n",
    "    # nfe_backward = nfe_total - nfe_forward\n",
    "    # nfef_meter.update(nfe_forward)\n",
    "    # nfeb_meter.update(nfe_backward)\n",
    "    clear_output()\n",
    "    print(loss_meter.avg, nfe_total)"
   ]
  },
  {
   "cell_type": "code",
   "execution_count": 72,
   "metadata": {},
   "outputs": [],
   "source": [
    "optimizer = optim.Adam(model.parameters(), lr=1e-2, weight_decay=1e-5)\n",
    "\n",
    "loss_meter = utils.RunningAverageMeter(0.5)\n",
    "nfef_meter = utils.RunningAverageMeter(0.5)\n",
    "nfeb_meter = utils.RunningAverageMeter(0.5)"
   ]
  },
  {
   "cell_type": "code",
   "execution_count": null,
   "metadata": {},
   "outputs": [
    {
     "name": "stderr",
     "output_type": "stream",
     "text": [
      "\n",
      "\n",
      "\n",
      "\n",
      "\n",
      " 38%|███▊      | 113/300 [43:22<1:09:26, 22.28s/it]\u001b[A\u001b[A\u001b[A\u001b[A\u001b[A"
     ]
    },
    {
     "name": "stdout",
     "output_type": "stream",
     "text": [
      "14469.723812129087 1391.0\n"
     ]
    }
   ],
   "source": [
    "model.train();\n",
    "for i in tqdm(range(300)):\n",
    "    optimizer.zero_grad()\n",
    "    \n",
    "    loss = compute_loss(model, data)\n",
    "\n",
    "    loss_meter.update(loss.item())\n",
    "    # nfe_forward = count_nfe(model)\n",
    "\n",
    "    loss.backward()\n",
    "    # clip_grad_norm(model.parameters(), 5)\n",
    "    optimizer.step()\n",
    "    #if loss.item() < 4:\n",
    "    #    break\n",
    "    nfe_total = count_nfe(model)\n",
    "    # nfe_backward = nfe_total - nfe_forward\n",
    "    # nfef_meter.update(nfe_forward)\n",
    "    # nfeb_meter.update(nfe_backward)\n",
    "    clear_output()\n",
    "    print(loss_meter.avg, nfe_total)"
   ]
  },
  {
   "cell_type": "code",
   "execution_count": 74,
   "metadata": {},
   "outputs": [],
   "source": [
    "model.eval();"
   ]
  },
  {
   "cell_type": "code",
   "execution_count": 75,
   "metadata": {},
   "outputs": [],
   "source": [
    "sample_fn, density_fn = get_transforms(model)"
   ]
  },
  {
   "cell_type": "markdown",
   "metadata": {},
   "source": [
    "# Test on mu outside of training domain\n",
    "\n",
    "It was trained on $\\mu \\in [ -30: 30]$ and evaluated on $\\mu \\in [ -60: 60]$"
   ]
  },
  {
   "cell_type": "code",
   "execution_count": 88,
   "metadata": {
    "scrolled": true
   },
   "outputs": [
    {
     "data": {
      "text/html": [
       "<div>\n",
       "<style scoped>\n",
       "    .dataframe tbody tr th:only-of-type {\n",
       "        vertical-align: middle;\n",
       "    }\n",
       "\n",
       "    .dataframe tbody tr th {\n",
       "        vertical-align: top;\n",
       "    }\n",
       "\n",
       "    .dataframe thead th {\n",
       "        text-align: right;\n",
       "    }\n",
       "</style>\n",
       "<table border=\"1\" class=\"dataframe\">\n",
       "  <thead>\n",
       "    <tr style=\"text-align: right;\">\n",
       "      <th></th>\n",
       "      <th>start_px</th>\n",
       "      <th>start_py</th>\n",
       "      <th>start_pz</th>\n",
       "      <th>pid</th>\n",
       "      <th>hit_x</th>\n",
       "      <th>hit_y</th>\n",
       "      <th>hit_z</th>\n",
       "      <th>magn_len</th>\n",
       "      <th>start_theta</th>\n",
       "      <th>start_phi</th>\n",
       "    </tr>\n",
       "  </thead>\n",
       "  <tbody>\n",
       "    <tr>\n",
       "      <th>0</th>\n",
       "      <td>-0.168032</td>\n",
       "      <td>0.264555</td>\n",
       "      <td>1.997276</td>\n",
       "      <td>13.0</td>\n",
       "      <td>-76.371696</td>\n",
       "      <td>304.602570</td>\n",
       "      <td>-13000.0</td>\n",
       "      <td>1.0</td>\n",
       "      <td>0.155648</td>\n",
       "      <td>2.136661</td>\n",
       "    </tr>\n",
       "    <tr>\n",
       "      <th>1</th>\n",
       "      <td>-0.240221</td>\n",
       "      <td>-0.118770</td>\n",
       "      <td>6.208177</td>\n",
       "      <td>13.0</td>\n",
       "      <td>-51.002476</td>\n",
       "      <td>-44.053688</td>\n",
       "      <td>-13000.0</td>\n",
       "      <td>1.0</td>\n",
       "      <td>0.043139</td>\n",
       "      <td>-2.682420</td>\n",
       "    </tr>\n",
       "    <tr>\n",
       "      <th>2</th>\n",
       "      <td>0.702783</td>\n",
       "      <td>0.044283</td>\n",
       "      <td>4.929460</td>\n",
       "      <td>13.0</td>\n",
       "      <td>376.157074</td>\n",
       "      <td>20.979713</td>\n",
       "      <td>-13000.0</td>\n",
       "      <td>1.0</td>\n",
       "      <td>0.141891</td>\n",
       "      <td>0.062928</td>\n",
       "    </tr>\n",
       "    <tr>\n",
       "      <th>3</th>\n",
       "      <td>0.577812</td>\n",
       "      <td>-1.404743</td>\n",
       "      <td>5.198709</td>\n",
       "      <td>13.0</td>\n",
       "      <td>300.918060</td>\n",
       "      <td>-623.416077</td>\n",
       "      <td>-13000.0</td>\n",
       "      <td>1.0</td>\n",
       "      <td>0.284263</td>\n",
       "      <td>-1.180562</td>\n",
       "    </tr>\n",
       "    <tr>\n",
       "      <th>4</th>\n",
       "      <td>0.072576</td>\n",
       "      <td>0.231726</td>\n",
       "      <td>2.408074</td>\n",
       "      <td>13.0</td>\n",
       "      <td>165.932465</td>\n",
       "      <td>222.033234</td>\n",
       "      <td>-13000.0</td>\n",
       "      <td>1.0</td>\n",
       "      <td>0.100498</td>\n",
       "      <td>1.267274</td>\n",
       "    </tr>\n",
       "    <tr>\n",
       "      <th>5</th>\n",
       "      <td>0.405773</td>\n",
       "      <td>0.453136</td>\n",
       "      <td>2.046573</td>\n",
       "      <td>13.0</td>\n",
       "      <td>577.063354</td>\n",
       "      <td>513.260681</td>\n",
       "      <td>-13000.0</td>\n",
       "      <td>1.0</td>\n",
       "      <td>0.288895</td>\n",
       "      <td>0.840485</td>\n",
       "    </tr>\n",
       "    <tr>\n",
       "      <th>6</th>\n",
       "      <td>0.787532</td>\n",
       "      <td>0.747999</td>\n",
       "      <td>7.747266</td>\n",
       "      <td>13.0</td>\n",
       "      <td>264.953583</td>\n",
       "      <td>222.134720</td>\n",
       "      <td>-13000.0</td>\n",
       "      <td>1.0</td>\n",
       "      <td>0.139289</td>\n",
       "      <td>0.759659</td>\n",
       "    </tr>\n",
       "    <tr>\n",
       "      <th>7</th>\n",
       "      <td>0.115675</td>\n",
       "      <td>-0.177540</td>\n",
       "      <td>7.267551</td>\n",
       "      <td>13.0</td>\n",
       "      <td>68.842812</td>\n",
       "      <td>-55.614948</td>\n",
       "      <td>-13000.0</td>\n",
       "      <td>1.0</td>\n",
       "      <td>0.029149</td>\n",
       "      <td>-0.993339</td>\n",
       "    </tr>\n",
       "    <tr>\n",
       "      <th>8</th>\n",
       "      <td>-0.034836</td>\n",
       "      <td>-0.649491</td>\n",
       "      <td>5.206270</td>\n",
       "      <td>13.0</td>\n",
       "      <td>29.140882</td>\n",
       "      <td>-286.916870</td>\n",
       "      <td>-13000.0</td>\n",
       "      <td>1.0</td>\n",
       "      <td>0.124287</td>\n",
       "      <td>-1.624381</td>\n",
       "    </tr>\n",
       "    <tr>\n",
       "      <th>9</th>\n",
       "      <td>0.005705</td>\n",
       "      <td>0.103684</td>\n",
       "      <td>1.000741</td>\n",
       "      <td>13.0</td>\n",
       "      <td>248.250031</td>\n",
       "      <td>238.894348</td>\n",
       "      <td>-13000.0</td>\n",
       "      <td>1.0</td>\n",
       "      <td>0.103394</td>\n",
       "      <td>1.515828</td>\n",
       "    </tr>\n",
       "    <tr>\n",
       "      <th>10</th>\n",
       "      <td>-2.605895</td>\n",
       "      <td>0.585652</td>\n",
       "      <td>9.436452</td>\n",
       "      <td>13.0</td>\n",
       "      <td>-609.044373</td>\n",
       "      <td>142.177170</td>\n",
       "      <td>-13000.0</td>\n",
       "      <td>1.0</td>\n",
       "      <td>0.275826</td>\n",
       "      <td>2.920525</td>\n",
       "    </tr>\n",
       "    <tr>\n",
       "      <th>11</th>\n",
       "      <td>-0.304783</td>\n",
       "      <td>-0.625623</td>\n",
       "      <td>1.743485</td>\n",
       "      <td>13.0</td>\n",
       "      <td>-265.121613</td>\n",
       "      <td>-819.365356</td>\n",
       "      <td>-13000.0</td>\n",
       "      <td>1.0</td>\n",
       "      <td>0.379775</td>\n",
       "      <td>-2.024125</td>\n",
       "    </tr>\n",
       "    <tr>\n",
       "      <th>12</th>\n",
       "      <td>-2.118977</td>\n",
       "      <td>0.742591</td>\n",
       "      <td>5.873755</td>\n",
       "      <td>13.0</td>\n",
       "      <td>-784.932983</td>\n",
       "      <td>289.858307</td>\n",
       "      <td>-13000.0</td>\n",
       "      <td>1.0</td>\n",
       "      <td>0.365124</td>\n",
       "      <td>2.804519</td>\n",
       "    </tr>\n",
       "    <tr>\n",
       "      <th>13</th>\n",
       "      <td>1.840042</td>\n",
       "      <td>-0.227072</td>\n",
       "      <td>5.697364</td>\n",
       "      <td>13.0</td>\n",
       "      <td>788.249939</td>\n",
       "      <td>-91.821991</td>\n",
       "      <td>-13000.0</td>\n",
       "      <td>1.0</td>\n",
       "      <td>0.314606</td>\n",
       "      <td>-0.122785</td>\n",
       "    </tr>\n",
       "    <tr>\n",
       "      <th>14</th>\n",
       "      <td>-1.587439</td>\n",
       "      <td>-2.091864</td>\n",
       "      <td>8.127153</td>\n",
       "      <td>13.0</td>\n",
       "      <td>-419.194794</td>\n",
       "      <td>-590.579834</td>\n",
       "      <td>-13000.0</td>\n",
       "      <td>1.0</td>\n",
       "      <td>0.312525</td>\n",
       "      <td>-2.219946</td>\n",
       "    </tr>\n",
       "    <tr>\n",
       "      <th>15</th>\n",
       "      <td>-1.417200</td>\n",
       "      <td>-0.328178</td>\n",
       "      <td>4.844831</td>\n",
       "      <td>13.0</td>\n",
       "      <td>-621.639832</td>\n",
       "      <td>-155.632996</td>\n",
       "      <td>-13000.0</td>\n",
       "      <td>1.0</td>\n",
       "      <td>0.291694</td>\n",
       "      <td>-2.914036</td>\n",
       "    </tr>\n",
       "    <tr>\n",
       "      <th>16</th>\n",
       "      <td>-1.515226</td>\n",
       "      <td>2.332183</td>\n",
       "      <td>9.226466</td>\n",
       "      <td>13.0</td>\n",
       "      <td>-351.537903</td>\n",
       "      <td>580.746460</td>\n",
       "      <td>-13000.0</td>\n",
       "      <td>1.0</td>\n",
       "      <td>0.292773</td>\n",
       "      <td>2.146963</td>\n",
       "    </tr>\n",
       "    <tr>\n",
       "      <th>17</th>\n",
       "      <td>-1.276142</td>\n",
       "      <td>1.987790</td>\n",
       "      <td>7.337156</td>\n",
       "      <td>13.0</td>\n",
       "      <td>-367.133087</td>\n",
       "      <td>621.506775</td>\n",
       "      <td>-13000.0</td>\n",
       "      <td>1.0</td>\n",
       "      <td>0.311467</td>\n",
       "      <td>2.141520</td>\n",
       "    </tr>\n",
       "    <tr>\n",
       "      <th>18</th>\n",
       "      <td>0.116520</td>\n",
       "      <td>0.003051</td>\n",
       "      <td>5.310542</td>\n",
       "      <td>13.0</td>\n",
       "      <td>94.757858</td>\n",
       "      <td>1.435345</td>\n",
       "      <td>-13000.0</td>\n",
       "      <td>1.0</td>\n",
       "      <td>0.021945</td>\n",
       "      <td>0.026178</td>\n",
       "    </tr>\n",
       "    <tr>\n",
       "      <th>19</th>\n",
       "      <td>-0.289837</td>\n",
       "      <td>0.412076</td>\n",
       "      <td>6.042867</td>\n",
       "      <td>13.0</td>\n",
       "      <td>-71.290413</td>\n",
       "      <td>156.646912</td>\n",
       "      <td>-13000.0</td>\n",
       "      <td>1.0</td>\n",
       "      <td>0.083178</td>\n",
       "      <td>2.183773</td>\n",
       "    </tr>\n",
       "    <tr>\n",
       "      <th>20</th>\n",
       "      <td>-0.121603</td>\n",
       "      <td>0.048579</td>\n",
       "      <td>1.227559</td>\n",
       "      <td>13.0</td>\n",
       "      <td>-33.357128</td>\n",
       "      <td>95.330261</td>\n",
       "      <td>-13000.0</td>\n",
       "      <td>1.0</td>\n",
       "      <td>0.106271</td>\n",
       "      <td>2.761529</td>\n",
       "    </tr>\n",
       "    <tr>\n",
       "      <th>21</th>\n",
       "      <td>0.327360</td>\n",
       "      <td>3.605987</td>\n",
       "      <td>7.914130</td>\n",
       "      <td>13.0</td>\n",
       "      <td>124.694229</td>\n",
       "      <td>1049.090454</td>\n",
       "      <td>-13000.0</td>\n",
       "      <td>1.0</td>\n",
       "      <td>0.429084</td>\n",
       "      <td>1.480262</td>\n",
       "    </tr>\n",
       "    <tr>\n",
       "      <th>22</th>\n",
       "      <td>-1.786355</td>\n",
       "      <td>-2.326321</td>\n",
       "      <td>6.569223</td>\n",
       "      <td>13.0</td>\n",
       "      <td>-587.575989</td>\n",
       "      <td>-811.205261</td>\n",
       "      <td>-13000.0</td>\n",
       "      <td>1.0</td>\n",
       "      <td>0.419927</td>\n",
       "      <td>-2.225648</td>\n",
       "    </tr>\n",
       "    <tr>\n",
       "      <th>23</th>\n",
       "      <td>1.116422</td>\n",
       "      <td>0.703822</td>\n",
       "      <td>5.520243</td>\n",
       "      <td>13.0</td>\n",
       "      <td>508.584534</td>\n",
       "      <td>293.476929</td>\n",
       "      <td>-13000.0</td>\n",
       "      <td>1.0</td>\n",
       "      <td>0.234671</td>\n",
       "      <td>0.562492</td>\n",
       "    </tr>\n",
       "    <tr>\n",
       "      <th>24</th>\n",
       "      <td>-0.426026</td>\n",
       "      <td>0.199400</td>\n",
       "      <td>1.178502</td>\n",
       "      <td>13.0</td>\n",
       "      <td>-617.004883</td>\n",
       "      <td>381.848480</td>\n",
       "      <td>-13000.0</td>\n",
       "      <td>1.0</td>\n",
       "      <td>0.379761</td>\n",
       "      <td>2.703832</td>\n",
       "    </tr>\n",
       "    <tr>\n",
       "      <th>25</th>\n",
       "      <td>0.295820</td>\n",
       "      <td>-0.295928</td>\n",
       "      <td>5.235539</td>\n",
       "      <td>13.0</td>\n",
       "      <td>175.433899</td>\n",
       "      <td>-129.755173</td>\n",
       "      <td>-13000.0</td>\n",
       "      <td>1.0</td>\n",
       "      <td>0.079751</td>\n",
       "      <td>-0.785579</td>\n",
       "    </tr>\n",
       "    <tr>\n",
       "      <th>26</th>\n",
       "      <td>-0.191465</td>\n",
       "      <td>-1.096283</td>\n",
       "      <td>5.240029</td>\n",
       "      <td>13.0</td>\n",
       "      <td>-39.820248</td>\n",
       "      <td>-481.256714</td>\n",
       "      <td>-13000.0</td>\n",
       "      <td>1.0</td>\n",
       "      <td>0.209270</td>\n",
       "      <td>-1.743702</td>\n",
       "    </tr>\n",
       "    <tr>\n",
       "      <th>27</th>\n",
       "      <td>-0.015556</td>\n",
       "      <td>0.080406</td>\n",
       "      <td>4.691052</td>\n",
       "      <td>13.0</td>\n",
       "      <td>42.161350</td>\n",
       "      <td>39.418434</td>\n",
       "      <td>-13000.0</td>\n",
       "      <td>1.0</td>\n",
       "      <td>0.017456</td>\n",
       "      <td>1.761909</td>\n",
       "    </tr>\n",
       "    <tr>\n",
       "      <th>28</th>\n",
       "      <td>0.961774</td>\n",
       "      <td>-0.843226</td>\n",
       "      <td>3.544638</td>\n",
       "      <td>13.0</td>\n",
       "      <td>695.650024</td>\n",
       "      <td>-551.686218</td>\n",
       "      <td>-13000.0</td>\n",
       "      <td>1.0</td>\n",
       "      <td>0.346307</td>\n",
       "      <td>-0.719815</td>\n",
       "    </tr>\n",
       "    <tr>\n",
       "      <th>29</th>\n",
       "      <td>-0.978087</td>\n",
       "      <td>2.035764</td>\n",
       "      <td>6.752318</td>\n",
       "      <td>13.0</td>\n",
       "      <td>-297.488068</td>\n",
       "      <td>692.125061</td>\n",
       "      <td>-13000.0</td>\n",
       "      <td>1.0</td>\n",
       "      <td>0.322785</td>\n",
       "      <td>2.018683</td>\n",
       "    </tr>\n",
       "    <tr>\n",
       "      <th>...</th>\n",
       "      <td>...</td>\n",
       "      <td>...</td>\n",
       "      <td>...</td>\n",
       "      <td>...</td>\n",
       "      <td>...</td>\n",
       "      <td>...</td>\n",
       "      <td>...</td>\n",
       "      <td>...</td>\n",
       "      <td>...</td>\n",
       "      <td>...</td>\n",
       "    </tr>\n",
       "    <tr>\n",
       "      <th>2766</th>\n",
       "      <td>-0.022982</td>\n",
       "      <td>-2.621040</td>\n",
       "      <td>9.240256</td>\n",
       "      <td>13.0</td>\n",
       "      <td>43.640785</td>\n",
       "      <td>-652.387085</td>\n",
       "      <td>-13000.0</td>\n",
       "      <td>2.0</td>\n",
       "      <td>0.276404</td>\n",
       "      <td>-1.579564</td>\n",
       "    </tr>\n",
       "    <tr>\n",
       "      <th>2767</th>\n",
       "      <td>-1.573380</td>\n",
       "      <td>-0.048941</td>\n",
       "      <td>3.942988</td>\n",
       "      <td>13.0</td>\n",
       "      <td>-789.365845</td>\n",
       "      <td>-27.680019</td>\n",
       "      <td>-13000.0</td>\n",
       "      <td>2.0</td>\n",
       "      <td>0.379839</td>\n",
       "      <td>-3.110497</td>\n",
       "    </tr>\n",
       "    <tr>\n",
       "      <th>2768</th>\n",
       "      <td>1.828480</td>\n",
       "      <td>0.228243</td>\n",
       "      <td>5.358366</td>\n",
       "      <td>13.0</td>\n",
       "      <td>881.783203</td>\n",
       "      <td>98.931740</td>\n",
       "      <td>-13000.0</td>\n",
       "      <td>2.0</td>\n",
       "      <td>0.331218</td>\n",
       "      <td>0.124184</td>\n",
       "    </tr>\n",
       "    <tr>\n",
       "      <th>2769</th>\n",
       "      <td>-1.213996</td>\n",
       "      <td>-0.165954</td>\n",
       "      <td>7.689244</td>\n",
       "      <td>13.0</td>\n",
       "      <td>-302.742065</td>\n",
       "      <td>-49.303635</td>\n",
       "      <td>-13000.0</td>\n",
       "      <td>2.0</td>\n",
       "      <td>0.158022</td>\n",
       "      <td>-3.005734</td>\n",
       "    </tr>\n",
       "    <tr>\n",
       "      <th>2770</th>\n",
       "      <td>0.810641</td>\n",
       "      <td>0.383582</td>\n",
       "      <td>9.064856</td>\n",
       "      <td>13.0</td>\n",
       "      <td>256.060425</td>\n",
       "      <td>97.022743</td>\n",
       "      <td>-13000.0</td>\n",
       "      <td>2.0</td>\n",
       "      <td>0.098612</td>\n",
       "      <td>0.441965</td>\n",
       "    </tr>\n",
       "    <tr>\n",
       "      <th>2771</th>\n",
       "      <td>-2.252603</td>\n",
       "      <td>0.012846</td>\n",
       "      <td>5.617576</td>\n",
       "      <td>13.0</td>\n",
       "      <td>-830.473145</td>\n",
       "      <td>6.513704</td>\n",
       "      <td>-13000.0</td>\n",
       "      <td>2.0</td>\n",
       "      <td>0.381367</td>\n",
       "      <td>3.135890</td>\n",
       "    </tr>\n",
       "    <tr>\n",
       "      <th>2772</th>\n",
       "      <td>0.101622</td>\n",
       "      <td>-0.781910</td>\n",
       "      <td>2.342781</td>\n",
       "      <td>13.0</td>\n",
       "      <td>297.561646</td>\n",
       "      <td>-774.024719</td>\n",
       "      <td>-13000.0</td>\n",
       "      <td>2.0</td>\n",
       "      <td>0.324652</td>\n",
       "      <td>-1.441555</td>\n",
       "    </tr>\n",
       "    <tr>\n",
       "      <th>2773</th>\n",
       "      <td>-0.073383</td>\n",
       "      <td>0.050652</td>\n",
       "      <td>1.307683</td>\n",
       "      <td>13.0</td>\n",
       "      <td>223.765961</td>\n",
       "      <td>90.587456</td>\n",
       "      <td>-13000.0</td>\n",
       "      <td>2.0</td>\n",
       "      <td>0.068081</td>\n",
       "      <td>2.537448</td>\n",
       "    </tr>\n",
       "    <tr>\n",
       "      <th>2774</th>\n",
       "      <td>-1.617826</td>\n",
       "      <td>2.310685</td>\n",
       "      <td>6.455920</td>\n",
       "      <td>13.0</td>\n",
       "      <td>-502.224762</td>\n",
       "      <td>817.566406</td>\n",
       "      <td>-13000.0</td>\n",
       "      <td>2.0</td>\n",
       "      <td>0.411927</td>\n",
       "      <td>2.181623</td>\n",
       "    </tr>\n",
       "    <tr>\n",
       "      <th>2775</th>\n",
       "      <td>0.135858</td>\n",
       "      <td>-2.031462</td>\n",
       "      <td>5.756291</td>\n",
       "      <td>13.0</td>\n",
       "      <td>132.538177</td>\n",
       "      <td>-812.840210</td>\n",
       "      <td>-13000.0</td>\n",
       "      <td>2.0</td>\n",
       "      <td>0.339967</td>\n",
       "      <td>-1.504019</td>\n",
       "    </tr>\n",
       "    <tr>\n",
       "      <th>2776</th>\n",
       "      <td>0.052895</td>\n",
       "      <td>0.685083</td>\n",
       "      <td>4.648982</td>\n",
       "      <td>13.0</td>\n",
       "      <td>123.524101</td>\n",
       "      <td>337.856232</td>\n",
       "      <td>-13000.0</td>\n",
       "      <td>2.0</td>\n",
       "      <td>0.146738</td>\n",
       "      <td>1.493739</td>\n",
       "    </tr>\n",
       "    <tr>\n",
       "      <th>2777</th>\n",
       "      <td>-0.084324</td>\n",
       "      <td>0.005880</td>\n",
       "      <td>1.349909</td>\n",
       "      <td>13.0</td>\n",
       "      <td>193.898972</td>\n",
       "      <td>5.468271</td>\n",
       "      <td>-13000.0</td>\n",
       "      <td>2.0</td>\n",
       "      <td>0.062537</td>\n",
       "      <td>3.071973</td>\n",
       "    </tr>\n",
       "    <tr>\n",
       "      <th>2778</th>\n",
       "      <td>2.039853</td>\n",
       "      <td>1.156578</td>\n",
       "      <td>7.603419</td>\n",
       "      <td>13.0</td>\n",
       "      <td>682.205322</td>\n",
       "      <td>353.082855</td>\n",
       "      <td>-13000.0</td>\n",
       "      <td>2.0</td>\n",
       "      <td>0.299149</td>\n",
       "      <td>0.515794</td>\n",
       "    </tr>\n",
       "    <tr>\n",
       "      <th>2779</th>\n",
       "      <td>-0.642007</td>\n",
       "      <td>-0.021013</td>\n",
       "      <td>5.592660</td>\n",
       "      <td>13.0</td>\n",
       "      <td>-181.485947</td>\n",
       "      <td>-9.372037</td>\n",
       "      <td>-13000.0</td>\n",
       "      <td>2.0</td>\n",
       "      <td>0.114355</td>\n",
       "      <td>-3.108875</td>\n",
       "    </tr>\n",
       "    <tr>\n",
       "      <th>2780</th>\n",
       "      <td>0.094775</td>\n",
       "      <td>-0.438417</td>\n",
       "      <td>1.661457</td>\n",
       "      <td>13.0</td>\n",
       "      <td>415.228607</td>\n",
       "      <td>-616.361694</td>\n",
       "      <td>-13000.0</td>\n",
       "      <td>2.0</td>\n",
       "      <td>0.263684</td>\n",
       "      <td>-1.357898</td>\n",
       "    </tr>\n",
       "    <tr>\n",
       "      <th>2781</th>\n",
       "      <td>0.822654</td>\n",
       "      <td>-0.064914</td>\n",
       "      <td>4.817079</td>\n",
       "      <td>13.0</td>\n",
       "      <td>491.727325</td>\n",
       "      <td>-30.913013</td>\n",
       "      <td>-13000.0</td>\n",
       "      <td>2.0</td>\n",
       "      <td>0.169663</td>\n",
       "      <td>-0.078745</td>\n",
       "    </tr>\n",
       "    <tr>\n",
       "      <th>2782</th>\n",
       "      <td>0.169954</td>\n",
       "      <td>0.670944</td>\n",
       "      <td>6.252199</td>\n",
       "      <td>13.0</td>\n",
       "      <td>134.864288</td>\n",
       "      <td>247.234192</td>\n",
       "      <td>-13000.0</td>\n",
       "      <td>2.0</td>\n",
       "      <td>0.110254</td>\n",
       "      <td>1.322708</td>\n",
       "    </tr>\n",
       "    <tr>\n",
       "      <th>2783</th>\n",
       "      <td>-0.191979</td>\n",
       "      <td>-0.254292</td>\n",
       "      <td>1.314466</td>\n",
       "      <td>13.0</td>\n",
       "      <td>5.255802</td>\n",
       "      <td>-438.474396</td>\n",
       "      <td>-13000.0</td>\n",
       "      <td>2.0</td>\n",
       "      <td>0.237810</td>\n",
       "      <td>-2.217461</td>\n",
       "    </tr>\n",
       "    <tr>\n",
       "      <th>2784</th>\n",
       "      <td>-0.268369</td>\n",
       "      <td>-0.385562</td>\n",
       "      <td>7.423575</td>\n",
       "      <td>13.0</td>\n",
       "      <td>-22.004519</td>\n",
       "      <td>-119.126282</td>\n",
       "      <td>-13000.0</td>\n",
       "      <td>2.0</td>\n",
       "      <td>0.063196</td>\n",
       "      <td>-2.178865</td>\n",
       "    </tr>\n",
       "    <tr>\n",
       "      <th>2785</th>\n",
       "      <td>0.044407</td>\n",
       "      <td>-0.053708</td>\n",
       "      <td>3.556257</td>\n",
       "      <td>13.0</td>\n",
       "      <td>157.556473</td>\n",
       "      <td>-35.589794</td>\n",
       "      <td>-13000.0</td>\n",
       "      <td>2.0</td>\n",
       "      <td>0.019594</td>\n",
       "      <td>-0.879912</td>\n",
       "    </tr>\n",
       "    <tr>\n",
       "      <th>2786</th>\n",
       "      <td>1.006262</td>\n",
       "      <td>0.491583</td>\n",
       "      <td>7.513356</td>\n",
       "      <td>13.0</td>\n",
       "      <td>370.059601</td>\n",
       "      <td>151.324341</td>\n",
       "      <td>-13000.0</td>\n",
       "      <td>2.0</td>\n",
       "      <td>0.147968</td>\n",
       "      <td>0.454425</td>\n",
       "    </tr>\n",
       "    <tr>\n",
       "      <th>2787</th>\n",
       "      <td>-0.663413</td>\n",
       "      <td>0.423462</td>\n",
       "      <td>4.095992</td>\n",
       "      <td>13.0</td>\n",
       "      <td>-258.924347</td>\n",
       "      <td>236.707153</td>\n",
       "      <td>-13000.0</td>\n",
       "      <td>2.0</td>\n",
       "      <td>0.189836</td>\n",
       "      <td>2.573480</td>\n",
       "    </tr>\n",
       "    <tr>\n",
       "      <th>2788</th>\n",
       "      <td>-0.636313</td>\n",
       "      <td>-1.349111</td>\n",
       "      <td>9.379145</td>\n",
       "      <td>13.0</td>\n",
       "      <td>-107.308380</td>\n",
       "      <td>-330.394470</td>\n",
       "      <td>-13000.0</td>\n",
       "      <td>2.0</td>\n",
       "      <td>0.157717</td>\n",
       "      <td>-2.011511</td>\n",
       "    </tr>\n",
       "    <tr>\n",
       "      <th>2789</th>\n",
       "      <td>-1.742977</td>\n",
       "      <td>-0.166982</td>\n",
       "      <td>4.546654</td>\n",
       "      <td>13.0</td>\n",
       "      <td>-770.946777</td>\n",
       "      <td>-83.877426</td>\n",
       "      <td>-13000.0</td>\n",
       "      <td>2.0</td>\n",
       "      <td>0.367604</td>\n",
       "      <td>-3.046081</td>\n",
       "    </tr>\n",
       "    <tr>\n",
       "      <th>2790</th>\n",
       "      <td>-0.299349</td>\n",
       "      <td>-0.047526</td>\n",
       "      <td>8.708781</td>\n",
       "      <td>13.0</td>\n",
       "      <td>-26.648209</td>\n",
       "      <td>-12.424910</td>\n",
       "      <td>-13000.0</td>\n",
       "      <td>2.0</td>\n",
       "      <td>0.034790</td>\n",
       "      <td>-2.984142</td>\n",
       "    </tr>\n",
       "    <tr>\n",
       "      <th>2791</th>\n",
       "      <td>-0.209220</td>\n",
       "      <td>0.553319</td>\n",
       "      <td>2.216641</td>\n",
       "      <td>13.0</td>\n",
       "      <td>-12.297162</td>\n",
       "      <td>573.617371</td>\n",
       "      <td>-13000.0</td>\n",
       "      <td>2.0</td>\n",
       "      <td>0.260792</td>\n",
       "      <td>1.932298</td>\n",
       "    </tr>\n",
       "    <tr>\n",
       "      <th>2792</th>\n",
       "      <td>0.482672</td>\n",
       "      <td>-0.387672</td>\n",
       "      <td>2.625111</td>\n",
       "      <td>13.0</td>\n",
       "      <td>609.081604</td>\n",
       "      <td>-346.443542</td>\n",
       "      <td>-13000.0</td>\n",
       "      <td>2.0</td>\n",
       "      <td>0.231599</td>\n",
       "      <td>-0.676676</td>\n",
       "    </tr>\n",
       "    <tr>\n",
       "      <th>2793</th>\n",
       "      <td>-0.552911</td>\n",
       "      <td>-1.101681</td>\n",
       "      <td>7.691694</td>\n",
       "      <td>13.0</td>\n",
       "      <td>-105.848717</td>\n",
       "      <td>-328.607697</td>\n",
       "      <td>-13000.0</td>\n",
       "      <td>2.0</td>\n",
       "      <td>0.158905</td>\n",
       "      <td>-2.035946</td>\n",
       "    </tr>\n",
       "    <tr>\n",
       "      <th>2794</th>\n",
       "      <td>-0.111628</td>\n",
       "      <td>-1.955387</td>\n",
       "      <td>4.251653</td>\n",
       "      <td>13.0</td>\n",
       "      <td>46.581100</td>\n",
       "      <td>-1056.133789</td>\n",
       "      <td>-13000.0</td>\n",
       "      <td>2.0</td>\n",
       "      <td>0.431684</td>\n",
       "      <td>-1.627822</td>\n",
       "    </tr>\n",
       "    <tr>\n",
       "      <th>2795</th>\n",
       "      <td>-1.156186</td>\n",
       "      <td>0.042902</td>\n",
       "      <td>3.410022</td>\n",
       "      <td>13.0</td>\n",
       "      <td>-634.886047</td>\n",
       "      <td>27.892424</td>\n",
       "      <td>-13000.0</td>\n",
       "      <td>2.0</td>\n",
       "      <td>0.327101</td>\n",
       "      <td>3.104503</td>\n",
       "    </tr>\n",
       "  </tbody>\n",
       "</table>\n",
       "<p>2796 rows × 10 columns</p>\n",
       "</div>"
      ],
      "text/plain": [
       "      start_px  start_py  start_pz   pid       hit_x        hit_y    hit_z  \\\n",
       "0    -0.168032  0.264555  1.997276  13.0  -76.371696   304.602570 -13000.0   \n",
       "1    -0.240221 -0.118770  6.208177  13.0  -51.002476   -44.053688 -13000.0   \n",
       "2     0.702783  0.044283  4.929460  13.0  376.157074    20.979713 -13000.0   \n",
       "3     0.577812 -1.404743  5.198709  13.0  300.918060  -623.416077 -13000.0   \n",
       "4     0.072576  0.231726  2.408074  13.0  165.932465   222.033234 -13000.0   \n",
       "5     0.405773  0.453136  2.046573  13.0  577.063354   513.260681 -13000.0   \n",
       "6     0.787532  0.747999  7.747266  13.0  264.953583   222.134720 -13000.0   \n",
       "7     0.115675 -0.177540  7.267551  13.0   68.842812   -55.614948 -13000.0   \n",
       "8    -0.034836 -0.649491  5.206270  13.0   29.140882  -286.916870 -13000.0   \n",
       "9     0.005705  0.103684  1.000741  13.0  248.250031   238.894348 -13000.0   \n",
       "10   -2.605895  0.585652  9.436452  13.0 -609.044373   142.177170 -13000.0   \n",
       "11   -0.304783 -0.625623  1.743485  13.0 -265.121613  -819.365356 -13000.0   \n",
       "12   -2.118977  0.742591  5.873755  13.0 -784.932983   289.858307 -13000.0   \n",
       "13    1.840042 -0.227072  5.697364  13.0  788.249939   -91.821991 -13000.0   \n",
       "14   -1.587439 -2.091864  8.127153  13.0 -419.194794  -590.579834 -13000.0   \n",
       "15   -1.417200 -0.328178  4.844831  13.0 -621.639832  -155.632996 -13000.0   \n",
       "16   -1.515226  2.332183  9.226466  13.0 -351.537903   580.746460 -13000.0   \n",
       "17   -1.276142  1.987790  7.337156  13.0 -367.133087   621.506775 -13000.0   \n",
       "18    0.116520  0.003051  5.310542  13.0   94.757858     1.435345 -13000.0   \n",
       "19   -0.289837  0.412076  6.042867  13.0  -71.290413   156.646912 -13000.0   \n",
       "20   -0.121603  0.048579  1.227559  13.0  -33.357128    95.330261 -13000.0   \n",
       "21    0.327360  3.605987  7.914130  13.0  124.694229  1049.090454 -13000.0   \n",
       "22   -1.786355 -2.326321  6.569223  13.0 -587.575989  -811.205261 -13000.0   \n",
       "23    1.116422  0.703822  5.520243  13.0  508.584534   293.476929 -13000.0   \n",
       "24   -0.426026  0.199400  1.178502  13.0 -617.004883   381.848480 -13000.0   \n",
       "25    0.295820 -0.295928  5.235539  13.0  175.433899  -129.755173 -13000.0   \n",
       "26   -0.191465 -1.096283  5.240029  13.0  -39.820248  -481.256714 -13000.0   \n",
       "27   -0.015556  0.080406  4.691052  13.0   42.161350    39.418434 -13000.0   \n",
       "28    0.961774 -0.843226  3.544638  13.0  695.650024  -551.686218 -13000.0   \n",
       "29   -0.978087  2.035764  6.752318  13.0 -297.488068   692.125061 -13000.0   \n",
       "...        ...       ...       ...   ...         ...          ...      ...   \n",
       "2766 -0.022982 -2.621040  9.240256  13.0   43.640785  -652.387085 -13000.0   \n",
       "2767 -1.573380 -0.048941  3.942988  13.0 -789.365845   -27.680019 -13000.0   \n",
       "2768  1.828480  0.228243  5.358366  13.0  881.783203    98.931740 -13000.0   \n",
       "2769 -1.213996 -0.165954  7.689244  13.0 -302.742065   -49.303635 -13000.0   \n",
       "2770  0.810641  0.383582  9.064856  13.0  256.060425    97.022743 -13000.0   \n",
       "2771 -2.252603  0.012846  5.617576  13.0 -830.473145     6.513704 -13000.0   \n",
       "2772  0.101622 -0.781910  2.342781  13.0  297.561646  -774.024719 -13000.0   \n",
       "2773 -0.073383  0.050652  1.307683  13.0  223.765961    90.587456 -13000.0   \n",
       "2774 -1.617826  2.310685  6.455920  13.0 -502.224762   817.566406 -13000.0   \n",
       "2775  0.135858 -2.031462  5.756291  13.0  132.538177  -812.840210 -13000.0   \n",
       "2776  0.052895  0.685083  4.648982  13.0  123.524101   337.856232 -13000.0   \n",
       "2777 -0.084324  0.005880  1.349909  13.0  193.898972     5.468271 -13000.0   \n",
       "2778  2.039853  1.156578  7.603419  13.0  682.205322   353.082855 -13000.0   \n",
       "2779 -0.642007 -0.021013  5.592660  13.0 -181.485947    -9.372037 -13000.0   \n",
       "2780  0.094775 -0.438417  1.661457  13.0  415.228607  -616.361694 -13000.0   \n",
       "2781  0.822654 -0.064914  4.817079  13.0  491.727325   -30.913013 -13000.0   \n",
       "2782  0.169954  0.670944  6.252199  13.0  134.864288   247.234192 -13000.0   \n",
       "2783 -0.191979 -0.254292  1.314466  13.0    5.255802  -438.474396 -13000.0   \n",
       "2784 -0.268369 -0.385562  7.423575  13.0  -22.004519  -119.126282 -13000.0   \n",
       "2785  0.044407 -0.053708  3.556257  13.0  157.556473   -35.589794 -13000.0   \n",
       "2786  1.006262  0.491583  7.513356  13.0  370.059601   151.324341 -13000.0   \n",
       "2787 -0.663413  0.423462  4.095992  13.0 -258.924347   236.707153 -13000.0   \n",
       "2788 -0.636313 -1.349111  9.379145  13.0 -107.308380  -330.394470 -13000.0   \n",
       "2789 -1.742977 -0.166982  4.546654  13.0 -770.946777   -83.877426 -13000.0   \n",
       "2790 -0.299349 -0.047526  8.708781  13.0  -26.648209   -12.424910 -13000.0   \n",
       "2791 -0.209220  0.553319  2.216641  13.0  -12.297162   573.617371 -13000.0   \n",
       "2792  0.482672 -0.387672  2.625111  13.0  609.081604  -346.443542 -13000.0   \n",
       "2793 -0.552911 -1.101681  7.691694  13.0 -105.848717  -328.607697 -13000.0   \n",
       "2794 -0.111628 -1.955387  4.251653  13.0   46.581100 -1056.133789 -13000.0   \n",
       "2795 -1.156186  0.042902  3.410022  13.0 -634.886047    27.892424 -13000.0   \n",
       "\n",
       "      magn_len  start_theta  start_phi  \n",
       "0          1.0     0.155648   2.136661  \n",
       "1          1.0     0.043139  -2.682420  \n",
       "2          1.0     0.141891   0.062928  \n",
       "3          1.0     0.284263  -1.180562  \n",
       "4          1.0     0.100498   1.267274  \n",
       "5          1.0     0.288895   0.840485  \n",
       "6          1.0     0.139289   0.759659  \n",
       "7          1.0     0.029149  -0.993339  \n",
       "8          1.0     0.124287  -1.624381  \n",
       "9          1.0     0.103394   1.515828  \n",
       "10         1.0     0.275826   2.920525  \n",
       "11         1.0     0.379775  -2.024125  \n",
       "12         1.0     0.365124   2.804519  \n",
       "13         1.0     0.314606  -0.122785  \n",
       "14         1.0     0.312525  -2.219946  \n",
       "15         1.0     0.291694  -2.914036  \n",
       "16         1.0     0.292773   2.146963  \n",
       "17         1.0     0.311467   2.141520  \n",
       "18         1.0     0.021945   0.026178  \n",
       "19         1.0     0.083178   2.183773  \n",
       "20         1.0     0.106271   2.761529  \n",
       "21         1.0     0.429084   1.480262  \n",
       "22         1.0     0.419927  -2.225648  \n",
       "23         1.0     0.234671   0.562492  \n",
       "24         1.0     0.379761   2.703832  \n",
       "25         1.0     0.079751  -0.785579  \n",
       "26         1.0     0.209270  -1.743702  \n",
       "27         1.0     0.017456   1.761909  \n",
       "28         1.0     0.346307  -0.719815  \n",
       "29         1.0     0.322785   2.018683  \n",
       "...        ...          ...        ...  \n",
       "2766       2.0     0.276404  -1.579564  \n",
       "2767       2.0     0.379839  -3.110497  \n",
       "2768       2.0     0.331218   0.124184  \n",
       "2769       2.0     0.158022  -3.005734  \n",
       "2770       2.0     0.098612   0.441965  \n",
       "2771       2.0     0.381367   3.135890  \n",
       "2772       2.0     0.324652  -1.441555  \n",
       "2773       2.0     0.068081   2.537448  \n",
       "2774       2.0     0.411927   2.181623  \n",
       "2775       2.0     0.339967  -1.504019  \n",
       "2776       2.0     0.146738   1.493739  \n",
       "2777       2.0     0.062537   3.071973  \n",
       "2778       2.0     0.299149   0.515794  \n",
       "2779       2.0     0.114355  -3.108875  \n",
       "2780       2.0     0.263684  -1.357898  \n",
       "2781       2.0     0.169663  -0.078745  \n",
       "2782       2.0     0.110254   1.322708  \n",
       "2783       2.0     0.237810  -2.217461  \n",
       "2784       2.0     0.063196  -2.178865  \n",
       "2785       2.0     0.019594  -0.879912  \n",
       "2786       2.0     0.147968   0.454425  \n",
       "2787       2.0     0.189836   2.573480  \n",
       "2788       2.0     0.157717  -2.011511  \n",
       "2789       2.0     0.367604  -3.046081  \n",
       "2790       2.0     0.034790  -2.984142  \n",
       "2791       2.0     0.260792   1.932298  \n",
       "2792       2.0     0.231599  -0.676676  \n",
       "2793       2.0     0.158905  -2.035946  \n",
       "2794       2.0     0.431684  -1.627822  \n",
       "2795       2.0     0.327101   3.104503  \n",
       "\n",
       "[2796 rows x 10 columns]"
      ]
     },
     "execution_count": 88,
     "metadata": {},
     "output_type": "execute_result"
    }
   ],
   "source": [
    "df['start_theta']"
   ]
  },
  {
   "cell_type": "code",
   "execution_count": 97,
   "metadata": {
    "scrolled": true
   },
   "outputs": [
    {
     "data": {
      "text/plain": [
       "21.544467165470124"
      ]
     },
     "execution_count": 97,
     "metadata": {},
     "output_type": "execute_result"
    }
   ],
   "source": [
    "df.loc[df['magn_len'] == 1.]['hit_x'].mean()"
   ]
  },
  {
   "cell_type": "code",
   "execution_count": 98,
   "metadata": {},
   "outputs": [
    {
     "data": {
      "text/plain": [
       "451.4278405373423"
      ]
     },
     "execution_count": 98,
     "metadata": {},
     "output_type": "execute_result"
    }
   ],
   "source": [
    "df.loc[df['magn_len'] == 1.]['hit_x'].std()"
   ]
  },
  {
   "cell_type": "code",
   "execution_count": 107,
   "metadata": {},
   "outputs": [
    {
     "data": {
      "text/plain": [
       "(200,)"
      ]
     },
     "execution_count": 107,
     "metadata": {},
     "output_type": "execute_result"
    }
   ],
   "source": [
    "df.loc[df['magn_len'] == 1.]['start_phi'].shape"
   ]
  },
  {
   "cell_type": "code",
   "execution_count": 106,
   "metadata": {},
   "outputs": [
    {
     "data": {
      "text/plain": [
       "<matplotlib.collections.PathCollection at 0x7f877149e2b0>"
      ]
     },
     "execution_count": 106,
     "metadata": {},
     "output_type": "execute_result"
    },
    {
     "data": {
      "image/png": "[encoded data removed]",
      "text/plain": [
       "<Figure size 432x288 with 1 Axes>"
      ]
     },
     "metadata": {
      "needs_background": "light"
     },
     "output_type": "display_data"
    }
   ],
   "source": [
    "plt.scatter(df.loc[df['magn_len'] == 1.]['start_theta'], df.loc[df['magn_len'] == 1.]['start_phi'])"
   ]
  },
  {
   "cell_type": "code",
   "execution_count": 105,
   "metadata": {},
   "outputs": [
    {
     "data": {
      "text/plain": [
       "<matplotlib.collections.PathCollection at 0x7f87714bed30>"
      ]
     },
     "execution_count": 105,
     "metadata": {},
     "output_type": "execute_result"
    },
    {
     "data": {
      "image/png": "[encoded data removed]",
      "text/plain": [
       "<Figure size 432x288 with 1 Axes>"
      ]
     },
     "metadata": {
      "needs_background": "light"
     },
     "output_type": "display_data"
    }
   ],
   "source": [
    "plt.scatter(df.loc[df['magn_len'] == 1.]['hit_x'], df.loc[df['magn_len'] == 1.]['hit_y'])\n",
    "plt.scatter(df.loc[df['magn_len'] == 5.]['hit_x'], df.loc[df['magn_len'] == 5.]['hit_y'])\n",
    "plt.scatter(df.loc[df['magn_len'] == 10.]['hit_x'], df.loc[df['magn_len'] == 10.]['hit_y'])"
   ]
  },
  {
   "cell_type": "code",
   "execution_count": 103,
   "metadata": {},
   "outputs": [
    {
     "data": {
      "text/plain": [
       "<matplotlib.collections.PathCollection at 0x7f87715f78d0>"
      ]
     },
     "execution_count": 103,
     "metadata": {},
     "output_type": "execute_result"
    },
    {
     "data": {
      "image/png": "[encoded data removed]",
      "text/plain": [
       "<Figure size 432x288 with 1 Axes>"
      ]
     },
     "metadata": {
      "needs_background": "light"
     },
     "output_type": "display_data"
    }
   ],
   "source": []
  },
  {
   "cell_type": "code",
   "execution_count": 99,
   "metadata": {},
   "outputs": [
    {
     "data": {
      "text/plain": [
       "-5.060897599512608"
      ]
     },
     "execution_count": 99,
     "metadata": {},
     "output_type": "execute_result"
    }
   ],
   "source": [
    "df.loc[df['magn_len'] == 10.]['hit_x'].mean()"
   ]
  },
  {
   "cell_type": "code",
   "execution_count": 94,
   "metadata": {},
   "outputs": [
    {
     "data": {
      "image/png": "[encoded data removed]",
      "text/plain": [
       "<Figure size 432x288 with 1 Axes>"
      ]
     },
     "metadata": {
      "needs_background": "light"
     },
     "output_type": "display_data"
    }
   ],
   "source": [
    "plt.hist(df.loc[df['magn_len'] == 2.]['hit_x'], bins=100);"
   ]
  },
  {
   "cell_type": "code",
   "execution_count": 82,
   "metadata": {},
   "outputs": [
    {
     "data": {
      "text/plain": [
       "(array([  14.,   62.,  160.,  313., 1135.,  649.,  293.,  111.,   48.,\n",
       "          11.]),\n",
       " array([-3.85701108, -3.05953829, -2.26206551, -1.46459272, -0.66711993,\n",
       "         0.13035285,  0.92782564,  1.72529843,  2.52277122,  3.320244  ,\n",
       "         4.11771679]),\n",
       " <a list of 10 Patch objects>)"
      ]
     },
     "execution_count": 82,
     "metadata": {},
     "output_type": "execute_result"
    },
    {
     "data": {
      "image/png": "[encoded data removed]",
      "text/plain": [
       "<Figure size 432x288 with 1 Axes>"
      ]
     },
     "metadata": {
      "needs_background": "light"
     },
     "output_type": "display_data"
    }
   ],
   "source": [
    "plt.hist(df['start_px'].values)"
   ]
  },
  {
   "cell_type": "code",
   "execution_count": 83,
   "metadata": {},
   "outputs": [
    {
     "data": {
      "text/plain": [
       "(array([ 13.,  57., 135., 276., 806., 974., 322., 128.,  58.,  27.]),\n",
       " array([-4.01547194, -3.22269123, -2.42991052, -1.63712981, -0.8443491 ,\n",
       "        -0.05156839,  0.74121232,  1.53399303,  2.32677374,  3.11955445,\n",
       "         3.91233516]),\n",
       " <a list of 10 Patch objects>)"
      ]
     },
     "execution_count": 83,
     "metadata": {},
     "output_type": "execute_result"
    },
    {
     "data": {
      "image/png": "[encoded data removed]",
      "text/plain": [
       "<Figure size 432x288 with 1 Axes>"
      ]
     },
     "metadata": {
      "needs_background": "light"
     },
     "output_type": "display_data"
    }
   ],
   "source": [
    "plt.hist(df['start_py'].values)"
   ]
  },
  {
   "cell_type": "code",
   "execution_count": 84,
   "metadata": {},
   "outputs": [
    {
     "data": {
      "text/plain": [
       "(array([293., 283., 277., 292., 284., 287., 331., 283., 289., 177.]),\n",
       " array([0.94452167, 1.84927061, 2.75401955, 3.65876849, 4.56351743,\n",
       "        5.46826637, 6.37301531, 7.27776425, 8.18251319, 9.08726213,\n",
       "        9.99201107]),\n",
       " <a list of 10 Patch objects>)"
      ]
     },
     "execution_count": 84,
     "metadata": {},
     "output_type": "execute_result"
    },
    {
     "data": {
      "image/png": "[encoded data removed]",
      "text/plain": [
       "<Figure size 432x288 with 1 Axes>"
      ]
     },
     "metadata": {
      "needs_background": "light"
     },
     "output_type": "display_data"
    }
   ],
   "source": [
    "plt.hist(df['start_pz'].values)"
   ]
  },
  {
   "cell_type": "code",
   "execution_count": null,
   "metadata": {},
   "outputs": [],
   "source": [
    "f = plt.figure(figsize=(21,16))\n",
    "mu_range = list(range(-60, 60, 2))\n",
    "for i in range(4):\n",
    "    for j in range(3):\n",
    "        plt.subplot(4,3, i*3 + j + 1)\n",
    "        input_mu = torch.full(size=(10000, ), fill_value=mu_range[::len(mu_range) // 12][i * 3 + j])#.to(device)\n",
    "        input_x = y_sampler.x_dist.sample(input_mu.shape).to(device)\n",
    "\n",
    "        y_sampler.make_condition_sample({'mu': input_mu})\n",
    "        data = y_sampler.condition_sample()\n",
    "\n",
    "        input_mu = input_mu.to(device)\n",
    "\n",
    "        \n",
    "        data_ref = torch.stack([0.1 * torch.randn(len(input_mu)).to(device), \n",
    "                                input_mu, input_x], dim=1).float()\n",
    "        sampled = sample_fn(data_ref)\n",
    "        \n",
    "        \n",
    "        plt.hist(data, bins=100, normed=True, label='true');\n",
    "        plt.hist(sampled[:, 0].detach().cpu().numpy(),\n",
    "             bins=100, color='g', density=True, alpha=0.5, label='ffjord');\n",
    "        plt.grid()\n",
    "        plt.legend()\n",
    "        plt.title(\"mu={:.3f}\".format(input_mu[0].item()))\n",
    "        \n",
    "experiment.log_figure(figure_name=\"FFJOR evaluation\", figure=f)"
   ]
  },
  {
   "cell_type": "code",
   "execution_count": null,
   "metadata": {},
   "outputs": [],
   "source": [
    "from scipy.stats import wasserstein_distance, entropy"
   ]
  },
  {
   "cell_type": "code",
   "execution_count": null,
   "metadata": {},
   "outputs": [],
   "source": [
    "from gan.metrics import Metrics"
   ]
  },
  {
   "cell_type": "code",
   "execution_count": null,
   "metadata": {},
   "outputs": [],
   "source": [
    "metric_calc = Metrics((-50, 50), 100)"
   ]
  },
  {
   "cell_type": "code",
   "execution_count": null,
   "metadata": {},
   "outputs": [],
   "source": [
    "f = plt.figure(figsize=(21,16))\n",
    "mu_range = list(range(-60, 60, 2))\n",
    "for i in range(4):\n",
    "    for j in range(3):\n",
    "        mu = mu_range[::len(mu_range) // 12][i * 3 + j]\n",
    "        input_mu = torch.full(size=(10000, ), fill_value=mu_range[::len(mu_range) // 12][i * 3 + j])#.to(device)\n",
    "        input_x = y_sampler.x_dist.sample(input_mu.shape).to(device)\n",
    "\n",
    "        y_sampler.make_condition_sample({'mu': input_mu})\n",
    "        data = y_sampler.condition_sample()\n",
    "\n",
    "        input_mu = input_mu.to(device)\n",
    "\n",
    "        \n",
    "        data_ref = torch.stack([0.1 * torch.randn(len(input_mu)).to(device), \n",
    "                                input_mu, input_x], dim=1).float()\n",
    "        sampled = sample_fn(data_ref)\n",
    "        \n",
    "        w_dist = wasserstein_distance(sampled[:, 0].detach().cpu().numpy(), data.detach().cpu().numpy())\n",
    "        experiment.log_metric('wasserstein_distance_mu={}'.format(mu), w_dist)\n",
    "        \n",
    "        for order in [1, 2]:\n",
    "            diff = metric_calc.compute_moment(sampled[:, 0].cpu().detach(), order=order) - metric_calc.compute_moment(data.cpu().detach(), order=order)\n",
    "            experiment.log_metric('moment_diff_mu={},order={}'.format(mu, order), diff)\n",
    "        \n",
    "        js = metric_calc.compute_JS(sampled[:, 0].cpu(), data.cpu())\n",
    "        kl = metric_calc.compute_KL(sampled[:, 0].cpu(), data.cpu())\n",
    "        ksstat = metric_calc.compute_KSStat(sampled[:, 0].cpu().detach(), data.cpu().detach())\n",
    "        \n",
    "        experiment.log_metric('JS_mu={}'.format(mu), js)\n",
    "        experiment.log_metric('KL_mu={}'.format(mu), kl)\n",
    "        experiment.log_metric('KS_mu={}'.format(mu), ksstat)\n",
    "        print(mu, w_dist, js, kl, ksstat)"
   ]
  },
  {
   "cell_type": "code",
   "execution_count": null,
   "metadata": {},
   "outputs": [],
   "source": []
  },
  {
   "cell_type": "markdown",
   "metadata": {},
   "source": [
    "# Density estimation"
   ]
  },
  {
   "cell_type": "code",
   "execution_count": null,
   "metadata": {},
   "outputs": [],
   "source": [
    "from scipy.signal import savgol_filter\n",
    "def standard_normal_logprob_for_sampling(z, data):\n",
    "    logZ = -0.5 * math.log(2 * math.pi)\n",
    "    data_ref = torch.stack([torch.zeros(len(data)).to(data.device), \n",
    "                            data[:, 1],\n",
    "                            data[:, 2]], dim=1).float()\n",
    "    zpow = (z - data_ref).pow(2)\n",
    "    sigmas = torch.tensor([1., 1., 1.]).float().to(data.device)\n",
    "    return logZ - zpow / 2 / sigmas\n",
    "\n",
    "\n",
    "def exp_normalize(x):\n",
    "    b = x.max()\n",
    "    y = np.exp(x - b)\n",
    "    return y / y.sum()\n",
    "\n",
    "def proba_fn(data_ref, density_fn):\n",
    "    zero_ref = torch.stack([torch.zeros(len(data_ref)).to(device), \n",
    "                            data_ref[:, 1],\n",
    "                            data_ref[:, 2]], dim=1).float()\n",
    "    z, delta_logp = density_fn(data_ref, zero_ref)\n",
    "    logpz = standard_normal_logprob_for_sampling(z, data_ref)\n",
    "    logpx = logpz - delta_logp\n",
    "    \n",
    "    yhat = savgol_filter(logpx.sum(dim=1).detach().cpu().numpy(), 21, 3)\n",
    "    proba = exp_normalize(yhat)\n",
    "    return proba"
   ]
  },
  {
   "cell_type": "code",
   "execution_count": null,
   "metadata": {
    "scrolled": false
   },
   "outputs": [],
   "source": [
    "plt.figure(figsize=(21, 16))\n",
    "mu_range = list(range(22, 60, 2))\n",
    "for i in range(4):\n",
    "    for j in range(3):\n",
    "        plt.subplot(4, 3, i*3 + j + 1)\n",
    "        input_mu = torch.full(size=(100, ), fill_value=mu_range[i*3 + j])#.to(device)\n",
    "        input_x = y_sampler.x_dist.sample(input_mu.shape).to(device)\n",
    "\n",
    "        y_sampler.make_condition_sample({'mu': input_mu})\n",
    "        data = y_sampler.condition_sample().detach().cpu().numpy()\n",
    "\n",
    "        input_mu = input_mu.to(device)\n",
    "\n",
    "        ref = torch.linspace(10, 70, len(input_mu)).float().to(device)\n",
    "        data_ref = torch.stack([ref, input_mu, input_x], dim=1).float()\n",
    "        proba = proba_fn(data_ref, density_fn)\n",
    "        plt.hist(data, bins=100, normed=True, label='true');\n",
    "        plt.plot(ref.detach().cpu().numpy(), proba / (ref[1] - ref[0]).item(), color='g', alpha=0.5, label='ffjord');\n",
    "        plt.grid()\n",
    "        plt.legend()\n",
    "        plt.title(\"mu={:.3f}\".format(input_mu[0].item()))"
   ]
  },
  {
   "cell_type": "markdown",
   "metadata": {},
   "source": [
    "# Test optimisation"
   ]
  },
  {
   "cell_type": "code",
   "execution_count": null,
   "metadata": {},
   "outputs": [],
   "source": [
    "lr = 0.1\n",
    "sample_size = 5\n",
    "\n",
    "\n",
    "mu_optim = torch.tensor(30.)\n",
    "mu_optim = mu_optim.repeat(sample_size).to(device)\n",
    "mu_optim.requires_grad=True"
   ]
  },
  {
   "cell_type": "code",
   "execution_count": null,
   "metadata": {
    "scrolled": true
   },
   "outputs": [
    {
     "name": "stderr",
     "output_type": "stream",
     "text": [
      "\r",
      " 24%|██▍       | 722/3000 [21:47<1:14:54,  1.97s/it]"
     ]
    },
    {
     "name": "stdout",
     "output_type": "stream",
     "text": [
      "721 -6.486995220184326\n"
     ]
    }
   ],
   "source": [
    "%%time\n",
    "n_iter = 3000\n",
    "losses = []\n",
    "m_vals = []\n",
    "for _iter in tqdm(range(n_iter)):    \n",
    "    x = y_sampler.x_dist.sample([mu_optim.shape[0]]).to(device)\n",
    "    # Do an update    \n",
    "    data_ref = torch.stack([torch.randn(len(mu_optim)).to(device), \n",
    "                            mu_optim, x], dim=1).float()\n",
    "    sampled = sample_fn(data_ref)\n",
    "    \n",
    "    loss = R(sampled[:, 0])\n",
    "    losses.append(loss.item())\n",
    "    if mu_optim.grad is not None: mu_optim.grad.zero_()\n",
    "    loss.backward()\n",
    "    with torch.no_grad():\n",
    "        mu_optim -= lr * mu_optim.grad.mean()\n",
    "        mu_optim.grad.zero_()\n",
    "    m_vals.append(mu_optim[0].item())\n",
    "    clear_output()\n",
    "    \n",
    "    print(_iter, mu_optim[0].item())"
   ]
  },
  {
   "cell_type": "code",
   "execution_count": null,
   "metadata": {},
   "outputs": [],
   "source": [
    "plt.figure(figsize=(12,6))\n",
    "plt.plot(losses);\n",
    "plt.grid()\n",
    "plt.ylabel(\"Loss\", fontsize=19)\n",
    "plt.xlabel(\"iter\", fontsize=19)"
   ]
  },
  {
   "cell_type": "code",
   "execution_count": null,
   "metadata": {},
   "outputs": [],
   "source": [
    "plt.figure(figsize=(12,6))\n",
    "plt.plot(m_vals);\n",
    "plt.grid()\n",
    "plt.ylabel(\"$\\mu$\", fontsize=19)\n",
    "plt.xlabel(\"iter\", fontsize=19)"
   ]
  },
  {
   "cell_type": "code",
   "execution_count": null,
   "metadata": {},
   "outputs": [],
   "source": []
  }
 ],
 "metadata": {
  "kernelspec": {
   "display_name": "Python 3",
   "language": "python",
   "name": "python3"
  },
  "language_info": {
   "codemirror_mode": {
    "name": "ipython",
    "version": 3
   },
   "file_extension": ".py",
   "mimetype": "text/x-python",
   "name": "python",
   "nbconvert_exporter": "python",
   "pygments_lexer": "ipython3",
   "version": "3.6.8"
  }
 },
 "nbformat": 4,
 "nbformat_minor": 2
}
