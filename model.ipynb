{
 "cells": [
  {
   "cell_type": "code",
   "execution_count": 9,
   "metadata": {},
   "outputs": [
    {
     "name": "stdout",
     "output_type": "stream",
     "text": [
      "The autoreload extension is already loaded. To reload it, use:\n",
      "  %reload_ext autoreload\n"
     ]
    }
   ],
   "source": [
    "%load_ext autoreload\n",
    "%autoreload 2\n",
    "\n",
    "import torch\n",
    "import pyro\n",
    "from pyro import distributions as dist\n",
    "from pyro import poutine\n",
    "import matplotlib.pyplot as plt\n",
    "import seaborn as sns\n",
    "sns.set()"
   ]
  },
  {
   "cell_type": "markdown",
   "metadata": {},
   "source": [
    "## Simple model\n",
    "\n",
    "\n",
    "$$x \\sim \\mathcal{N}(x|\\mu, 1)$$\n",
    "\n",
    "$$y \\sim \\mathcal{N}(y|x, 1)$$\n",
    "\n",
    "#### Problem statement\n",
    "\n",
    "Recover $p(y|\\mu)$ with differentable neural network and be able to make gradient step of some statistic from \n",
    "\n",
    "$$r = R\\left( \\{ y_i \\}_{i=0}^{B} \\right)$$, \n",
    "\n",
    "i.e. be able to calculate:\n",
    "\n",
    "$$\\frac{\\partial r}{\\partial \\mu} = ?$$."
   ]
  },
  {
   "cell_type": "markdown",
   "metadata": {},
   "source": [
    "## Make model with `pyro`"
   ]
  },
  {
   "cell_type": "code",
   "execution_count": 10,
   "metadata": {},
   "outputs": [],
   "source": [
    "mu = torch.tensor(12., requires_grad=True)\n",
    "mu = pyro.param('mu', mu)"
   ]
  },
  {
   "cell_type": "code",
   "execution_count": 11,
   "metadata": {},
   "outputs": [],
   "source": [
    "x_dist = dist.Normal(mu, 1)"
   ]
  },
  {
   "cell_type": "code",
   "execution_count": 18,
   "metadata": {},
   "outputs": [],
   "source": [
    "def f(x):\n",
    "    return x.sin() + x.tanh()\n",
    "\n",
    "#@pyro.condition(data={\"x\": torch.tensor(1.)})\n",
    "def y_sample():\n",
    "    x = pyro.sample(\"x\", x_dist)\n",
    "    x = f(x)\n",
    "    return pyro.sample(\"y\", dist.Normal(x, 1))"
   ]
  },
  {
   "cell_type": "code",
   "execution_count": 49,
   "metadata": {},
   "outputs": [],
   "source": [
    "conditioned_y_sample = poutine.condition(y_sample, data={\"x\": torch.tensor(-1.)})"
   ]
  },
  {
   "cell_type": "markdown",
   "metadata": {},
   "source": [
    "## Statistic of interest\n",
    "\n",
    "$$r = \\frac{1}{N} \\sum\\limits_{i=0}^{N} || y_i - Y ||_2^2$$"
   ]
  },
  {
   "cell_type": "code",
   "execution_count": 50,
   "metadata": {},
   "outputs": [],
   "source": [
    "def r(ys: torch.tensor, Y_0=-5):\n",
    "    return (ys - Y_0).pow(2).mean()"
   ]
  },
  {
   "cell_type": "markdown",
   "metadata": {},
   "source": [
    "## Approaches to solve the problem\n",
    "\n",
    "### First one\n",
    "\n",
    "  1. Make approximation of this model:\n",
    "\n",
    "  $$p(y | \\mu)$$\n",
    "\n",
    "  With GANs or some other techniques.\n",
    "  \n",
    "\n",
    "  2. Sample $\\{ y_i \\}_{i=0}^{B} \\sim p(y | \\mu)$\n",
    "  \n",
    "  \n",
    "  3. Calc $r = R(\\{ y_i \\}_{i=0}^{B})$\n",
    "  \n",
    "  \n",
    "  4. Find $\\frac{\\partial r}{\\partial \\mu}$\n",
    "  \n",
    "### Second one\n",
    "\n",
    "\n",
    "  1. Make approximation of this model:\n",
    "\n",
    "  $$p(r | \\mu)$$\n",
    "  \n",
    "  \n",
    "  2. Sample $r \\sim p(r | \\mu)$\n",
    "  \n",
    "  \n",
    "  3. Find $\\frac{\\partial r}{\\partial \\mu}$"
   ]
  },
  {
   "cell_type": "markdown",
   "metadata": {},
   "source": [
    "## Investigation of the model"
   ]
  },
  {
   "cell_type": "code",
   "execution_count": 51,
   "metadata": {},
   "outputs": [],
   "source": [
    "samples = torch.stack([y_sample() for _ in range(1000)])"
   ]
  },
  {
   "cell_type": "code",
   "execution_count": 52,
   "metadata": {},
   "outputs": [
    {
     "data": {
      "image/png": "[encoded data removed]",
      "text/plain": [
       "<Figure size 432x288 with 1 Axes>"
      ]
     },
     "metadata": {
      "needs_background": "light"
     },
     "output_type": "display_data"
    }
   ],
   "source": [
    "plt.hist(samples.detach().cpu().numpy(), bins=100);"
   ]
  },
  {
   "cell_type": "code",
   "execution_count": 53,
   "metadata": {},
   "outputs": [
    {
     "data": {
      "text/plain": [
       "34.02850341796875"
      ]
     },
     "execution_count": 53,
     "metadata": {},
     "output_type": "execute_result"
    }
   ],
   "source": [
    "r(samples).item()"
   ]
  },
  {
   "cell_type": "code",
   "execution_count": 54,
   "metadata": {},
   "outputs": [],
   "source": [
    "samples = torch.stack([conditioned_y_sample() for _ in range(1000)])"
   ]
  },
  {
   "cell_type": "code",
   "execution_count": 55,
   "metadata": {},
   "outputs": [
    {
     "data": {
      "image/png": "[encoded data removed]",
      "text/plain": [
       "<Figure size 432x288 with 1 Axes>"
      ]
     },
     "metadata": {
      "needs_background": "light"
     },
     "output_type": "display_data"
    }
   ],
   "source": [
    "plt.hist(samples.detach().cpu().numpy(), bins=100);"
   ]
  }
 ],
 "metadata": {
  "kernelspec": {
   "display_name": "Python 3",
   "language": "python",
   "name": "python3"
  },
  "language_info": {
   "codemirror_mode": {
    "name": "ipython",
    "version": 3
   },
   "file_extension": ".py",
   "mimetype": "text/x-python",
   "name": "python",
   "nbconvert_exporter": "python",
   "pygments_lexer": "ipython3",
   "version": "3.6.7"
  }
 },
 "nbformat": 4,
 "nbformat_minor": 2
}
