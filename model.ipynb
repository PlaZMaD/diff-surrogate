{
 "cells": [
  {
   "cell_type": "code",
   "execution_count": 2,
   "metadata": {},
   "outputs": [
    {
     "name": "stdout",
     "output_type": "stream",
     "text": [
      "env: CUDA_VISIBLE_DEVICES=3\n",
      "env: LIBRARY_PATH=/usr/local/cuda/lib64\n"
     ]
    }
   ],
   "source": [
    "%env CUDA_VISIBLE_DEVICES=3\n",
    "%env LIBRARY_PATH=/usr/local/cuda/lib64"
   ]
  },
  {
   "cell_type": "code",
   "execution_count": 3,
   "metadata": {},
   "outputs": [],
   "source": [
    "import sys"
   ]
  },
  {
   "cell_type": "code",
   "execution_count": 6,
   "metadata": {},
   "outputs": [
    {
     "name": "stdout",
     "output_type": "stream",
     "text": [
      "The autoreload extension is already loaded. To reload it, use:\n",
      "  %reload_ext autoreload\n"
     ]
    }
   ],
   "source": [
    "%load_ext autoreload\n",
    "%autoreload 2\n",
    "\n",
    "import torch\n",
    "import pyro\n",
    "from pyro import distributions as dist\n",
    "from pyro import poutine\n",
    "import matplotlib.pyplot as plt\n",
    "import seaborn as sns\n",
    "#sns.set()\n",
    "\n",
    "%matplotlib inline"
   ]
  },
  {
   "cell_type": "markdown",
   "metadata": {},
   "source": [
    "## Simple model\n",
    "\n",
    "\n",
    "$$x \\sim \\mathcal{N}(x|\\mu, 1)$$\n",
    "\n",
    "$$y \\sim \\mathcal{N}(y|x, 1)$$\n",
    "\n",
    "#### Problem statement\n",
    "\n",
    "Recover $p(y|\\mu)$ with differentable neural network and be able to make gradient step of some statistic from \n",
    "\n",
    "$$r = R\\left( \\{ y_i \\}_{i=0}^{B} \\right)$$, \n",
    "\n",
    "i.e. be able to calculate:\n",
    "\n",
    "$$\\frac{\\partial r}{\\partial \\mu} = ?$$."
   ]
  },
  {
   "cell_type": "markdown",
   "metadata": {},
   "source": [
    "## Make model with `pyro`"
   ]
  },
  {
   "cell_type": "code",
   "execution_count": 7,
   "metadata": {},
   "outputs": [],
   "source": [
    "mu = torch.tensor(12., requires_grad=True)\n",
    "mu = pyro.param('mu', mu)"
   ]
  },
  {
   "cell_type": "code",
   "execution_count": 8,
   "metadata": {},
   "outputs": [],
   "source": [
    "x_dist = dist.Normal(mu, 1)"
   ]
  },
  {
   "cell_type": "code",
   "execution_count": 9,
   "metadata": {},
   "outputs": [],
   "source": [
    "def f(x):\n",
    "    return x.sin() + x.tanh()\n",
    "\n",
    "#@pyro.condition(data={\"x\": torch.tensor(1.)})\n",
    "def y_sample():\n",
    "    x = pyro.sample(\"x\", x_dist)\n",
    "    x = f(x)\n",
    "    return pyro.sample(\"y\", dist.Normal(x, 1))"
   ]
  },
  {
   "cell_type": "code",
   "execution_count": 11,
   "metadata": {},
   "outputs": [],
   "source": [
    "conditioned_y_sample = poutine.condition(y_sample, data={\"x\": torch.tensor(-1.)})"
   ]
  },
  {
   "cell_type": "markdown",
   "metadata": {},
   "source": [
    "## Statistic of interest\n",
    "\n",
    "$$r = \\frac{1}{N} \\sum\\limits_{i=0}^{N} || y_i - Y ||_2^2$$"
   ]
  },
  {
   "cell_type": "code",
   "execution_count": 7,
   "metadata": {},
   "outputs": [],
   "source": [
    "def r(ys: torch.tensor, Y_0=-5):\n",
    "    return (ys - Y_0).pow(2).mean()"
   ]
  },
  {
   "cell_type": "markdown",
   "metadata": {},
   "source": [
    "## Approaches to solve the problem\n",
    "\n",
    "### First one\n",
    "\n",
    "  1. Make approximation of this model:\n",
    "\n",
    "  $$p(y | \\mu)$$\n",
    "\n",
    "  With GANs or some other techniques.\n",
    "  \n",
    "\n",
    "  2. Sample $\\{ y_i \\}_{i=0}^{B} \\sim p(y | \\mu)$\n",
    "  \n",
    "  \n",
    "  3. Calc $r = R(\\{ y_i \\}_{i=0}^{B})$\n",
    "  \n",
    "  \n",
    "  4. Find $\\frac{\\partial r}{\\partial \\mu}$\n",
    "  \n",
    "### Second one\n",
    "\n",
    "\n",
    "  1. Make approximation of this model:\n",
    "\n",
    "  $$p(r | \\mu)$$\n",
    "  \n",
    "  \n",
    "  2. Sample $r \\sim p(r | \\mu)$\n",
    "  \n",
    "  \n",
    "  3. Find $\\frac{\\partial r}{\\partial \\mu}$"
   ]
  },
  {
   "cell_type": "markdown",
   "metadata": {},
   "source": [
    "## Investigation of the model"
   ]
  },
  {
   "cell_type": "code",
   "execution_count": 5,
   "metadata": {},
   "outputs": [],
   "source": [
    "samples = torch.stack([y_sample() for _ in range(10000)])"
   ]
  },
  {
   "cell_type": "code",
   "execution_count": 6,
   "metadata": {},
   "outputs": [
    {
     "data": {
      "image/png": "[encoded data removed]",
      "text/plain": [
       "<Figure size 432x288 with 1 Axes>"
      ]
     },
     "metadata": {},
     "output_type": "display_data"
    }
   ],
   "source": [
    "plt.hist(samples.detach().cpu().numpy(), bins=100);"
   ]
  },
  {
   "cell_type": "code",
   "execution_count": 25,
   "metadata": {},
   "outputs": [
    {
     "data": {
      "text/plain": [
       "33.678306579589844"
      ]
     },
     "execution_count": 25,
     "metadata": {},
     "output_type": "execute_result"
    }
   ],
   "source": [
    "r(samples).item()"
   ]
  },
  {
   "cell_type": "code",
   "execution_count": 28,
   "metadata": {},
   "outputs": [],
   "source": [
    "samples = torch.stack([conditioned_y_sample() for _ in range(10000)])"
   ]
  },
  {
   "cell_type": "code",
   "execution_count": 29,
   "metadata": {},
   "outputs": [
    {
     "data": {
      "image/png": "[encoded data removed]",
      "text/plain": [
       "<Figure size 432x288 with 1 Axes>"
      ]
     },
     "metadata": {},
     "output_type": "display_data"
    }
   ],
   "source": [
    "plt.hist(samples.detach().cpu().numpy(), bins=100);"
   ]
  },
  {
   "cell_type": "markdown",
   "metadata": {},
   "source": [
    "# GANS"
   ]
  },
  {
   "cell_type": "code",
   "execution_count": 10,
   "metadata": {},
   "outputs": [],
   "source": [
    "import torch.nn as nn\n",
    "import torch.nn.functional as F\n",
    "import torch.optim as optim\n",
    "import torch"
   ]
  },
  {
   "cell_type": "code",
   "execution_count": 12,
   "metadata": {},
   "outputs": [],
   "source": [
    "device = torch.device(\"cuda\", 0)"
   ]
  },
  {
   "cell_type": "code",
   "execution_count": 13,
   "metadata": {},
   "outputs": [],
   "source": [
    "import numpy as np\n",
    "\n",
    "\n",
    "NOISE_DIM = 4\n",
    "def sample_noise(N):\n",
    "    return np.random.normal(size=(N,NOISE_DIM)).astype(np.float32)"
   ]
  },
  {
   "cell_type": "code",
   "execution_count": 14,
   "metadata": {},
   "outputs": [],
   "source": [
    "class Generator(nn.Module):\n",
    "    def __init__(self, noise_dim, out_dim, hidden_dim=100):\n",
    "        super(Generator, self).__init__()\n",
    "        \n",
    "        self.fc1 = nn.Linear(noise_dim, hidden_dim)\n",
    "        nn.init.xavier_normal_(self.fc1.weight)\n",
    "        nn.init.constant_(self.fc1.bias, 0.0)\n",
    "        \n",
    "        self.fc2 = nn.Linear(hidden_dim, hidden_dim)\n",
    "        nn.init.xavier_normal_(self.fc2.weight)\n",
    "        nn.init.constant_(self.fc2.bias, 0.0)\n",
    "        \n",
    "        self.fc3 = nn.Linear(hidden_dim, out_dim)\n",
    "        nn.init.xavier_normal_(self.fc3.weight)\n",
    "        nn.init.constant_(self.fc3.bias, 0.0)\n",
    "\n",
    "    def forward(self, z):\n",
    "        \"\"\"\n",
    "            Generator takes a vector of noise and produces sample\n",
    "        \"\"\"\n",
    "        h1 = torch.tanh(self.fc1(z))\n",
    "        h2 = F.leaky_relu(self.fc2(h1))\n",
    "        y_gen = self.fc3(h2)\n",
    "        return y_gen"
   ]
  },
  {
   "cell_type": "code",
   "execution_count": 31,
   "metadata": {},
   "outputs": [],
   "source": [
    "class Discriminator(nn.Module):\n",
    "    def __init__(self, in_dim, hidden_dim=100):\n",
    "        super(Discriminator, self).__init__()\n",
    "        \n",
    "        self.fc1 = nn.Linear(in_dim, hidden_dim)\n",
    "        nn.init.xavier_normal_(self.fc1.weight)\n",
    "        nn.init.constant_(self.fc1.bias, 0.0)\n",
    "        \n",
    "        self.fc2 = nn.Linear(hidden_dim, hidden_dim)\n",
    "        nn.init.xavier_normal_(self.fc2.weight)\n",
    "        nn.init.constant_(self.fc2.bias, 0.0)\n",
    "        \n",
    "        self.fc3 = nn.Linear(hidden_dim, hidden_dim)\n",
    "        nn.init.xavier_normal_(self.fc3.weight)\n",
    "        nn.init.constant_(self.fc3.bias, 0.0)\n",
    "        \n",
    "        self.fc4 = nn.Linear(hidden_dim, 1)\n",
    "        nn.init.xavier_normal_(self.fc4.weight)\n",
    "        nn.init.constant_(self.fc4.bias, 0.0)\n",
    "\n",
    "    def forward(self, x):\n",
    "        h1 = torch.tanh(self.fc1(x))\n",
    "        h2 = F.leaky_relu(self.fc2(h1))\n",
    "        h3 = F.leaky_relu(self.fc3(h2))\n",
    "        score = torch.sigmoid(self.fc4(h3))\n",
    "        return score"
   ]
  },
  {
   "cell_type": "code",
   "execution_count": 44,
   "metadata": {},
   "outputs": [],
   "source": [
    "generator = Generator(NOISE_DIM, out_dim = 1).to(device)\n",
    "discriminator = Discriminator(in_dim = 1).to(device)\n",
    "\n",
    "lr = 0.001\n",
    "\n",
    "g_optimizer = optim.Adam(generator.parameters(),     lr=lr, betas=(0.5, 0.999))\n",
    "d_optimizer = optim.Adam(discriminator.parameters(), lr=lr, betas=(0.5, 0.999))"
   ]
  },
  {
   "cell_type": "code",
   "execution_count": 40,
   "metadata": {},
   "outputs": [],
   "source": [
    "################################\n",
    "# IMPLEMENT HERE\n",
    "# Define the g_loss and d_loss here\n",
    "# these are the only lines of code you need to change to implement GAN game\n",
    "\n",
    "#d_loss(discriminator(data_gen), discriminator(inp_data))\n",
    "#g_loss(discriminator(data_gen))\n",
    "def g_loss(discrim_output):\n",
    "    eps = 1e-10\n",
    "    if TASK == 1: \n",
    "        loss = torch.log(1 - discrim_output + eps).mean()    \n",
    "    elif TASK == 2:\n",
    "        loss = - torch.log(discrim_output + eps).mean()\n",
    "    elif TASK in (3, 4):\n",
    "        loss = - discrim_output.mean()\n",
    "    return loss\n",
    "\n",
    "\n",
    "def d_loss(discrim_output_gen, discrim_output_real):\n",
    "    eps = 1e-10\n",
    "    if TASK in (1, 2): \n",
    "        loss = - torch.log(discrim_output_real + eps).mean() - torch.log(1 - discrim_output_gen + eps).mean()\n",
    "    elif TASK in (3, 4):\n",
    "        loss = - (discrim_output_real.mean() - discrim_output_gen.mean())\n",
    "    return loss\n",
    "################################"
   ]
  },
  {
   "cell_type": "code",
   "execution_count": 45,
   "metadata": {},
   "outputs": [],
   "source": [
    "num_epochs = 100\n",
    "batch_size = 512 # initially was 64\n",
    "TASK = 2"
   ]
  },
  {
   "cell_type": "code",
   "execution_count": 46,
   "metadata": {},
   "outputs": [],
   "source": [
    "from tqdm import trange"
   ]
  },
  {
   "cell_type": "code",
   "execution_count": 36,
   "metadata": {},
   "outputs": [],
   "source": [
    "#data = torch.stack([y_sample() for _ in range(100000)]).reshape(-1,1)\n",
    "data = torch.Tensor([y_sample().item() for _ in range(100000)]).reshape(-1,1)\n",
    "fixed_noise = torch.Tensor(sample_noise(10000)).to(device)\n",
    "def iterate_minibatches(X, batchsize, y=None):\n",
    "    perm = np.random.permutation(X.shape[0])\n",
    "    \n",
    "    for start in trange(0, X.shape[0], batchsize):\n",
    "        end = min(start + batchsize, X.shape[0])\n",
    "        if y is None:\n",
    "            yield X[perm[start:end]]\n",
    "        else:\n",
    "            yield X[perm[start:end]], y[perm[start:end]]"
   ]
  },
  {
   "cell_type": "code",
   "execution_count": 47,
   "metadata": {},
   "outputs": [],
   "source": [
    "from IPython import display\n",
    "def run_training():\n",
    "    #plt.xlim(lims)\n",
    "    #plt.ylim(lims)\n",
    "\n",
    "    # ===========================\n",
    "    # IMPORTANT PARAMETER:\n",
    "    # Number of D updates per G update\n",
    "    # ===========================\n",
    "    k_d, k_g = 4, 1\n",
    "\n",
    "    dis_loss, gen_loss = [], []\n",
    "\n",
    "    try:\n",
    "        for epoch in range(num_epochs):\n",
    "            dis_epoch_loss = []\n",
    "            gen_epoch_loss = []\n",
    "            for input_data in iterate_minibatches(data, batch_size):\n",
    "                # Optimize D\n",
    "                for _ in range(k_d):\n",
    "                    # Sample noise\n",
    "                    noise = torch.Tensor(sample_noise(len(input_data))).to(device)\n",
    "\n",
    "                    # Do an update\n",
    "                    inp_data = torch.Tensor(input_data).to(device)\n",
    "                    data_gen = generator(noise)\n",
    "\n",
    "                    loss = d_loss(discriminator(data_gen), discriminator(inp_data))\n",
    "                    if TASK == 4:\n",
    "                        grad_penalty = calc_gradient_penalty(data_gen.data, inp_data.data)\n",
    "                        loss += grad_penalty\n",
    "                        \n",
    "                    d_optimizer.zero_grad()\n",
    "                    loss.backward()\n",
    "                    d_optimizer.step()\n",
    "\n",
    "                    if TASK == 3:                    \n",
    "                        for p in discriminator.parameters():\n",
    "                            p.data.clamp_(clamp_lower, clamp_upper)\n",
    "                dis_epoch_loss.append(loss.item())\n",
    "\n",
    "                # Optimize G\n",
    "                for _ in range(k_g):\n",
    "                    # Sample noise\n",
    "                    noise = torch.Tensor(sample_noise(len(input_data))).to(device)\n",
    "\n",
    "                    # Do an update\n",
    "                    data_gen = generator(noise)\n",
    "                    loss = g_loss(discriminator(data_gen))\n",
    "                    g_optimizer.zero_grad()\n",
    "                    loss.backward()\n",
    "                    g_optimizer.step()\n",
    "                gen_epoch_loss.append(loss.item())\n",
    "            dis_loss.append(np.mean(dis_epoch_loss))\n",
    "            gen_loss.append(np.mean(gen_epoch_loss))\n",
    "            # Visualize\n",
    "            f, (ax1, ax2) = plt.subplots(1, 2, figsize=(16,6))\n",
    "            ax1.set_title(\"Epoch {}\".format(epoch))\n",
    "            ax1.hist(data.detach().cpu().numpy(), bins=100, normed=True, label='true');\n",
    "            ax1.hist(generator(fixed_noise).detach().cpu().numpy(),\n",
    "                     bins=100, color='g', normed=True, alpha=0.5, label='gan');\n",
    "            ax1.grid()\n",
    "            ax1.legend()\n",
    "            \n",
    "            ax2.plot(dis_loss, label='d_loss', c='b')\n",
    "            ax2.set_title(\"epoch\")\n",
    "            ax2.set_title(\"loss\")\n",
    "            ax2.grid()\n",
    "            ax2.legend()\n",
    "            \n",
    "            ax3 = ax2.twinx()\n",
    "            ax3.plot(gen_loss, label='g_loss', c='r')\n",
    "            ax3.grid()\n",
    "            ax3.legend()\n",
    "            \n",
    "            \n",
    "            display.clear_output(wait=True)\n",
    "            plt.show()\n",
    "\n",
    "\n",
    "    except KeyboardInterrupt:\n",
    "        pass"
   ]
  },
  {
   "cell_type": "code",
   "execution_count": 48,
   "metadata": {},
   "outputs": [
    {
     "data": {
      "image/png": "[encoded data removed]",
      "text/plain": [
       "<Figure size 1152x432 with 3 Axes>"
      ]
     },
     "metadata": {
      "needs_background": "light"
     },
     "output_type": "display_data"
    },
    {
     "name": "stderr",
     "output_type": "stream",
     "text": [
      "  8%|▊         | 16/196 [00:00<00:03, 48.19it/s]\n"
     ]
    }
   ],
   "source": [
    "run_training()"
   ]
  },
  {
   "cell_type": "code",
   "execution_count": null,
   "metadata": {},
   "outputs": [],
   "source": []
  }
 ],
 "metadata": {
  "kernelspec": {
   "display_name": "Python 3",
   "language": "python",
   "name": "python3"
  },
  "language_info": {
   "codemirror_mode": {
    "name": "ipython",
    "version": 3
   },
   "file_extension": ".py",
   "mimetype": "text/x-python",
   "name": "python",
   "nbconvert_exporter": "python",
   "pygments_lexer": "ipython3",
   "version": "3.7.2"
  },
  "toc": {
   "base_numbering": 1,
   "nav_menu": {},
   "number_sections": true,
   "sideBar": true,
   "skip_h1_title": false,
   "title_cell": "Table of Contents",
   "title_sidebar": "Contents",
   "toc_cell": false,
   "toc_position": {},
   "toc_section_display": true,
   "toc_window_display": false
  }
 },
 "nbformat": 4,
 "nbformat_minor": 2
}
