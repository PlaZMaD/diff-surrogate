{
 "cells": [
  {
   "cell_type": "code",
   "execution_count": 1,
   "metadata": {},
   "outputs": [],
   "source": [
    "%load_ext autoreload\n",
    "%autoreload 2\n",
    "\n",
    "import torch\n",
    "import pyro\n",
    "from pyro import distributions as dist\n",
    "from pyro import poutine\n",
    "import matplotlib.pyplot as plt\n",
    "import seaborn as sns\n",
    "import tqdm\n",
    "#sns.set()"
   ]
  },
  {
   "cell_type": "markdown",
   "metadata": {},
   "source": [
    "# Model"
   ]
  },
  {
   "cell_type": "markdown",
   "metadata": {},
   "source": [
    "## Toy model\n",
    "\n",
    "Input X - corresponds to any kind of phase space input - some **distribution** with prior.\n",
    "Input $\\mu$ - corresponds to parameters of surrogate, ie - size of detector, magnetic field, etc. - a **number**.\n",
    "\n",
    "Define some functions f, g - those can be varied. Probably, bettern to stcik with some types of them, ie:\n",
    "continous, pereodic, polynomial, ...\n",
    "\n",
    "$$X \\sim U(0,1), \\ \\ \\mu \\sim \\delta(\\mu - \\mu_0) $$\n",
    "\n",
    "$$latent\\_x \\sim  \\mathcal{N} (latent\\_x | X, 1)$$\n",
    "\n",
    "$$laten\\_mu \\sim \\mathcal{N}(laten\\_mu |\\mu, 1)$$\n",
    "\n",
    "$$ f(\\alpha) = a + b \\alpha + sin(\\alpha) $$\n",
    "$$ g(\\alpha) = a * \\alpha $$\n",
    "\n",
    "$$y \\sim \\mathcal{N}(y|f(latent_x), abs(g(latent_mu))$$\n",
    "\n",
    "### Problem statement\n",
    "\n",
    "1. Fit GAN/GP/NV to match p(y|X,mu)\n",
    "\n",
    "2. Solve optimisaiton problem of the choise:\n",
    " - $argmin_{mu} (y - Y_0) ^2 2$\n",
    " - $argmax_{mu} p(y|mu) = \\int p(y|X,mu) p(X) dx$\n",
    " - $etc$\n",
    "\n"
   ]
  },
  {
   "cell_type": "markdown",
   "metadata": {},
   "source": [
    "## Make model with `pyro`"
   ]
  },
  {
   "cell_type": "code",
   "execution_count": 103,
   "metadata": {},
   "outputs": [],
   "source": [
    "mu_dist = dist.Delta(torch.tensor(-50., requires_grad=True))\n",
    "p_dist = dist.Exponential(rate=0.01)\n",
    "theta_dist = dist.Uniform(0, 0.01)"
   ]
  },
  {
   "cell_type": "code",
   "execution_count": 81,
   "metadata": {},
   "outputs": [],
   "source": [
    "sample = p_dist.sample([1000]) + 20\n",
    "pt = 1 / sample * torch.sin(theta_dist.sample(sample.shape)) * 10000 # normalising kostyl"
   ]
  },
  {
   "cell_type": "code",
   "execution_count": 125,
   "metadata": {},
   "outputs": [
    {
     "data": {
      "image/png": "[encoded data removed]",
      "text/plain": [
       "<Figure size 432x288 with 1 Axes>"
      ]
     },
     "metadata": {
      "needs_background": "light"
     },
     "output_type": "display_data"
    }
   ],
   "source": [
    "my_cmap = plt.cm.jet\n",
    "my_cmap.set_under('white')\n",
    "plt.hist2d(sample.numpy(), pt.numpy(), bins=50, cmap=my_cmap, cmin=0.0000001);"
   ]
  },
  {
   "cell_type": "code",
   "execution_count": 109,
   "metadata": {},
   "outputs": [],
   "source": [
    "def y_sample(offset=20):\n",
    "    mu = pyro.sample('mu', mu_dist)\n",
    "    x = pyro.sample(\"x\", dist.Normal(mu, 1))\n",
    "    \n",
    "    p = pyro.sample('p', p_dist) + offset\n",
    "    theta = torch.sin(pyro.sample('theta', theta_dist))\n",
    "    #pt = 1 / p * torch.sin(theta) * 10000\n",
    "    \n",
    "    theta_s = 1 / p\n",
    "    y_var = theta_s * abs(x) ** 3 / 6\n",
    "    y_mean = x ** 2 / p\n",
    "    return pyro.sample(\"y\", dist.Normal(y_mean, torch.sqrt(y_var)))"
   ]
  },
  {
   "cell_type": "code",
   "execution_count": 123,
   "metadata": {},
   "outputs": [],
   "source": [
    "conditioned_y_sample = poutine.condition(y_sample, data={\"mu\": torch.tensor(24.)})"
   ]
  },
  {
   "cell_type": "code",
   "execution_count": 124,
   "metadata": {},
   "outputs": [
    {
     "data": {
      "image/png": "[encoded data removed]",
      "text/plain": [
       "<Figure size 432x288 with 1 Axes>"
      ]
     },
     "metadata": {
      "needs_background": "light"
     },
     "output_type": "display_data"
    }
   ],
   "source": [
    "plt.hist([conditioned_y_sample().item() for _ in range(10000)], bins=100);"
   ]
  },
  {
   "cell_type": "code",
   "execution_count": 68,
   "metadata": {},
   "outputs": [],
   "source": [
    "def f(x):\n",
    "    return x.sin() + x.tanh()\n",
    "\n",
    "#@pyro.condition(data={\"x\": torch.tensor(1.)})\n",
    "def y_sample():\n",
    "    mu = pyro.sample('mu', mu_dist)\n",
    "    x = pyro.sample(\"x\", dist.Normal(mu, 1))\n",
    "    x = f(x)\n",
    "    return pyro.sample(\"y\", dist.Normal(x, 1))"
   ]
  },
  {
   "cell_type": "markdown",
   "metadata": {},
   "source": [
    "## Statistic of interest\n",
    "\n",
    "$$r = \\frac{1}{N} \\sum\\limits_{i=0}^{N} || y_i - Y ||_2^2$$"
   ]
  },
  {
   "cell_type": "code",
   "execution_count": 4,
   "metadata": {},
   "outputs": [],
   "source": [
    "def R(ys: torch.tensor, Y_0=-5):\n",
    "    return (ys - Y_0).pow(2).mean()"
   ]
  },
  {
   "cell_type": "markdown",
   "metadata": {},
   "source": [
    "## Approaches to solve the problem\n",
    "\n",
    "### First one\n",
    "\n",
    "  1. Make approximation of this model:\n",
    "\n",
    "  $$p(y | \\mu)$$\n",
    "\n",
    "  With GANs or some other techniques.\n",
    "  \n",
    "\n",
    "  2. Sample $\\{ y_i \\}_{i=0}^{B} \\sim p(y | \\mu)$\n",
    "  \n",
    "  \n",
    "  3. Calc $r = R(\\{ y_i \\}_{i=0}^{B})$\n",
    "  \n",
    "  \n",
    "  4. Find $\\frac{\\partial r}{\\partial \\mu}$\n",
    "  \n",
    "### Second one\n",
    "\n",
    "\n",
    "  1. Make approximation of this model:\n",
    "\n",
    "  $$p(r | \\mu)$$\n",
    "  \n",
    "  \n",
    "  2. Sample $r \\sim p(r | \\mu)$\n",
    "  \n",
    "  \n",
    "  3. Find $\\frac{\\partial r}{\\partial \\mu}$"
   ]
  },
  {
   "cell_type": "markdown",
   "metadata": {},
   "source": [
    "## Investigation of the model"
   ]
  },
  {
   "cell_type": "code",
   "execution_count": 5,
   "metadata": {},
   "outputs": [],
   "source": [
    "samples = torch.stack([y_sample() for _ in range(1000)])"
   ]
  },
  {
   "cell_type": "code",
   "execution_count": 6,
   "metadata": {},
   "outputs": [
    {
     "data": {
      "image/png": "[encoded data removed]",
      "text/plain": [
       "<Figure size 432x288 with 1 Axes>"
      ]
     },
     "metadata": {
      "needs_background": "light"
     },
     "output_type": "display_data"
    }
   ],
   "source": [
    "plt.hist(samples.detach().cpu().numpy(), bins=100);"
   ]
  },
  {
   "cell_type": "code",
   "execution_count": 7,
   "metadata": {},
   "outputs": [
    {
     "data": {
      "text/plain": [
       "18.617748260498047"
      ]
     },
     "execution_count": 7,
     "metadata": {},
     "output_type": "execute_result"
    }
   ],
   "source": [
    "R(samples).item()"
   ]
  },
  {
   "cell_type": "markdown",
   "metadata": {},
   "source": [
    "#### Simple way to change `mu`"
   ]
  },
  {
   "cell_type": "code",
   "execution_count": 8,
   "metadata": {},
   "outputs": [],
   "source": [
    "conditioned_y_sample = poutine.condition(y_sample, data={\"mu\": torch.tensor(-2.)})"
   ]
  },
  {
   "cell_type": "code",
   "execution_count": 9,
   "metadata": {},
   "outputs": [],
   "source": [
    "samples = torch.stack([conditioned_y_sample() for _ in range(1000)])"
   ]
  },
  {
   "cell_type": "code",
   "execution_count": 10,
   "metadata": {},
   "outputs": [
    {
     "data": {
      "image/png": "[encoded data removed]",
      "text/plain": [
       "<Figure size 432x288 with 1 Axes>"
      ]
     },
     "metadata": {
      "needs_background": "light"
     },
     "output_type": "display_data"
    }
   ],
   "source": [
    "plt.hist(samples.detach().cpu().numpy(), bins=100);"
   ]
  },
  {
   "cell_type": "code",
   "execution_count": 11,
   "metadata": {},
   "outputs": [
    {
     "name": "stderr",
     "output_type": "stream",
     "text": [
      "100%|██████████| 100/100 [00:15<00:00,  6.34it/s]\n"
     ]
    }
   ],
   "source": [
    "import numpy as np\n",
    "\n",
    "rs = []\n",
    "mus = np.linspace(-100, 100, 100)\n",
    "for mu in tqdm.tqdm(mus):\n",
    "    conditioned_y_sample = poutine.condition(y_sample, data={\"mu\": torch.tensor(mu)})\n",
    "    samples = torch.stack([conditioned_y_sample() for _ in range(1000)])\n",
    "    rs.append(R(samples).item())"
   ]
  },
  {
   "cell_type": "code",
   "execution_count": 12,
   "metadata": {},
   "outputs": [
    {
     "data": {
      "text/plain": [
       "<matplotlib.collections.PathCollection at 0x7fde191f2630>"
      ]
     },
     "execution_count": 12,
     "metadata": {},
     "output_type": "execute_result"
    },
    {
     "data": {
      "image/png": "[encoded data removed]",
      "text/plain": [
       "<Figure size 432x288 with 1 Axes>"
      ]
     },
     "metadata": {
      "needs_background": "light"
     },
     "output_type": "display_data"
    }
   ],
   "source": [
    "plt.scatter(mus, rs)"
   ]
  },
  {
   "cell_type": "code",
   "execution_count": null,
   "metadata": {},
   "outputs": [],
   "source": []
  }
 ],
 "metadata": {
  "kernelspec": {
   "display_name": "Python 3",
   "language": "python",
   "name": "python3"
  },
  "language_info": {
   "codemirror_mode": {
    "name": "ipython",
    "version": 3
   },
   "file_extension": ".py",
   "mimetype": "text/x-python",
   "name": "python",
   "nbconvert_exporter": "python",
   "pygments_lexer": "ipython3",
   "version": "3.7.2"
  },
  "toc": {
   "base_numbering": 1,
   "nav_menu": {},
   "number_sections": true,
   "sideBar": true,
   "skip_h1_title": false,
   "title_cell": "Table of Contents",
   "title_sidebar": "Contents",
   "toc_cell": false,
   "toc_position": {},
   "toc_section_display": true,
   "toc_window_display": false
  }
 },
 "nbformat": 4,
 "nbformat_minor": 2
}
