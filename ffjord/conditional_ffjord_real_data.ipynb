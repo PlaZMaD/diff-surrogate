{
 "cells": [
  {
   "cell_type": "code",
   "execution_count": 1,
   "metadata": {},
   "outputs": [
    {
     "name": "stdout",
     "output_type": "stream",
     "text": [
      "SOLVERS:  ['dopri5', 'bdf', 'rk4', 'midpoint', 'adams', 'explicit_adams', 'fixed_adams']\n",
      "{'tanh': Tanh(), 'relu': ReLU(), 'softplus': Softplus(beta=1, threshold=20), 'elu': ELU(alpha=1.0), 'swish': Swish(), 'square': Lambda(), 'identity': Lambda()}\n"
     ]
    }
   ],
   "source": [
    "%load_ext autoreload\n",
    "%autoreload 2\n",
    "%run prerun.py\n",
    "%matplotlib inline\n",
    "\n",
    "device = torch.device('cuda:3')"
   ]
  },
  {
   "cell_type": "markdown",
   "metadata": {},
   "source": [
    "## Data"
   ]
  },
  {
   "cell_type": "code",
   "execution_count": 2,
   "metadata": {},
   "outputs": [],
   "source": [
    "import pandas as pd\n",
    "df = pd.read_csv('../xz_magnet_opt.csv')\n",
    "df.drop(columns='Unnamed: 0', inplace=True)"
   ]
  },
  {
   "cell_type": "code",
   "execution_count": 3,
   "metadata": {},
   "outputs": [
    {
     "data": {
      "text/html": [
       "<div>\n",
       "<style scoped>\n",
       "    .dataframe tbody tr th:only-of-type {\n",
       "        vertical-align: middle;\n",
       "    }\n",
       "\n",
       "    .dataframe tbody tr th {\n",
       "        vertical-align: top;\n",
       "    }\n",
       "\n",
       "    .dataframe thead th {\n",
       "        text-align: right;\n",
       "    }\n",
       "</style>\n",
       "<table border=\"1\" class=\"dataframe\">\n",
       "  <thead>\n",
       "    <tr style=\"text-align: right;\">\n",
       "      <th></th>\n",
       "      <th>start_px</th>\n",
       "      <th>start_py</th>\n",
       "      <th>start_pz</th>\n",
       "      <th>pid</th>\n",
       "      <th>hit_x</th>\n",
       "      <th>hit_y</th>\n",
       "      <th>hit_z</th>\n",
       "      <th>hit_E</th>\n",
       "      <th>magn_len</th>\n",
       "      <th>magn_x</th>\n",
       "      <th>start_theta</th>\n",
       "      <th>start_phi</th>\n",
       "      <th>start_P</th>\n",
       "    </tr>\n",
       "  </thead>\n",
       "  <tbody>\n",
       "    <tr>\n",
       "      <th>0</th>\n",
       "      <td>0.585307</td>\n",
       "      <td>-0.239336</td>\n",
       "      <td>7.729657</td>\n",
       "      <td>-13.0</td>\n",
       "      <td>-103.602234</td>\n",
       "      <td>-4.812062</td>\n",
       "      <td>-13000.0</td>\n",
       "      <td>0.865171</td>\n",
       "      <td>5.0</td>\n",
       "      <td>7.0</td>\n",
       "      <td>0.081627</td>\n",
       "      <td>-0.388161</td>\n",
       "      <td>7.755479</td>\n",
       "    </tr>\n",
       "    <tr>\n",
       "      <th>1</th>\n",
       "      <td>0.860176</td>\n",
       "      <td>-1.341563</td>\n",
       "      <td>3.837597</td>\n",
       "      <td>-13.0</td>\n",
       "      <td>0.000000</td>\n",
       "      <td>0.000000</td>\n",
       "      <td>0.0</td>\n",
       "      <td>0.000000</td>\n",
       "      <td>5.0</td>\n",
       "      <td>7.0</td>\n",
       "      <td>0.393601</td>\n",
       "      <td>-1.000650</td>\n",
       "      <td>4.155339</td>\n",
       "    </tr>\n",
       "    <tr>\n",
       "      <th>2</th>\n",
       "      <td>-1.175180</td>\n",
       "      <td>1.289560</td>\n",
       "      <td>8.766644</td>\n",
       "      <td>-13.0</td>\n",
       "      <td>-752.243652</td>\n",
       "      <td>345.333649</td>\n",
       "      <td>-13000.0</td>\n",
       "      <td>1.663801</td>\n",
       "      <td>5.0</td>\n",
       "      <td>7.0</td>\n",
       "      <td>0.196450</td>\n",
       "      <td>2.309821</td>\n",
       "      <td>8.938572</td>\n",
       "    </tr>\n",
       "    <tr>\n",
       "      <th>3</th>\n",
       "      <td>-1.681919</td>\n",
       "      <td>0.904257</td>\n",
       "      <td>9.074683</td>\n",
       "      <td>-13.0</td>\n",
       "      <td>-626.921997</td>\n",
       "      <td>206.969193</td>\n",
       "      <td>-13000.0</td>\n",
       "      <td>1.901685</td>\n",
       "      <td>5.0</td>\n",
       "      <td>7.0</td>\n",
       "      <td>0.207404</td>\n",
       "      <td>2.648293</td>\n",
       "      <td>9.273425</td>\n",
       "    </tr>\n",
       "    <tr>\n",
       "      <th>4</th>\n",
       "      <td>0.773998</td>\n",
       "      <td>3.037582</td>\n",
       "      <td>7.728539</td>\n",
       "      <td>-13.0</td>\n",
       "      <td>110.676453</td>\n",
       "      <td>959.350342</td>\n",
       "      <td>-13000.0</td>\n",
       "      <td>2.972845</td>\n",
       "      <td>5.0</td>\n",
       "      <td>7.0</td>\n",
       "      <td>0.385319</td>\n",
       "      <td>1.321298</td>\n",
       "      <td>8.340042</td>\n",
       "    </tr>\n",
       "  </tbody>\n",
       "</table>\n",
       "</div>"
      ],
      "text/plain": [
       "   start_px  start_py  start_pz   pid       hit_x       hit_y    hit_z  \\\n",
       "0  0.585307 -0.239336  7.729657 -13.0 -103.602234   -4.812062 -13000.0   \n",
       "1  0.860176 -1.341563  3.837597 -13.0    0.000000    0.000000      0.0   \n",
       "2 -1.175180  1.289560  8.766644 -13.0 -752.243652  345.333649 -13000.0   \n",
       "3 -1.681919  0.904257  9.074683 -13.0 -626.921997  206.969193 -13000.0   \n",
       "4  0.773998  3.037582  7.728539 -13.0  110.676453  959.350342 -13000.0   \n",
       "\n",
       "      hit_E  magn_len  magn_x  start_theta  start_phi   start_P  \n",
       "0  0.865171       5.0     7.0     0.081627  -0.388161  7.755479  \n",
       "1  0.000000       5.0     7.0     0.393601  -1.000650  4.155339  \n",
       "2  1.663801       5.0     7.0     0.196450   2.309821  8.938572  \n",
       "3  1.901685       5.0     7.0     0.207404   2.648293  9.273425  \n",
       "4  2.972845       5.0     7.0     0.385319   1.321298  8.340042  "
      ]
     },
     "execution_count": 3,
     "metadata": {},
     "output_type": "execute_result"
    }
   ],
   "source": [
    "df.head()"
   ]
  },
  {
   "cell_type": "code",
   "execution_count": 4,
   "metadata": {},
   "outputs": [
    {
     "data": {
      "text/plain": [
       "(252000, 13)"
      ]
     },
     "execution_count": 4,
     "metadata": {},
     "output_type": "execute_result"
    }
   ],
   "source": [
    "df.shape"
   ]
  },
  {
   "cell_type": "code",
   "execution_count": 5,
   "metadata": {},
   "outputs": [],
   "source": [
    "x_columns = ['hit_x', 'hit_y', 'hit_E']\n",
    "conditions_columns = ['magn_x', 'magn_len', 'start_pz', \n",
    "                      'start_phi', 'start_P', 'start_theta', \n",
    "                      'start_px', 'start_py']"
   ]
  },
  {
   "cell_type": "code",
   "execution_count": 6,
   "metadata": {},
   "outputs": [],
   "source": [
    "x = torch.tensor(df[x_columns].values).float() \n",
    "conditions = torch.tensor(df[conditions_columns].values).float()"
   ]
  },
  {
   "cell_type": "code",
   "execution_count": 7,
   "metadata": {},
   "outputs": [
    {
     "data": {
      "text/plain": [
       "(torch.Size([252000, 3]), torch.Size([252000, 8]))"
      ]
     },
     "execution_count": 7,
     "metadata": {},
     "output_type": "execute_result"
    }
   ],
   "source": [
    "x.shape, conditions.shape"
   ]
  },
  {
   "cell_type": "markdown",
   "metadata": {},
   "source": [
    "## Define model"
   ]
  },
  {
   "cell_type": "code",
   "execution_count": 8,
   "metadata": {},
   "outputs": [
    {
     "data": {
      "text/plain": [
       "257910"
      ]
     },
     "execution_count": 8,
     "metadata": {},
     "output_type": "execute_result"
    }
   ],
   "source": [
    "regularization_fns = None\n",
    "# regularization_fns, regularization_coeffs = create_regularization_fns()\n",
    "\n",
    "model = build_model_tabular(dims=x.shape[1], \n",
    "                            condition_dim=conditions.shape[1],\n",
    "                            layer_type='concat_v2',\n",
    "                            num_blocks=3,\n",
    "                            rademacher=False,\n",
    "                            nonlinearity='tanh',\n",
    "                            solver='dopri5',\n",
    "                            hidden_dims=(256, 256),\n",
    "                            bn_lag=0.01, \n",
    "                            batch_norm=True,\n",
    "                            regularization_fns=regularization_fns).to(device)\n",
    "sum(p.numel() for p in model.parameters()  if p.requires_grad)"
   ]
  },
  {
   "cell_type": "code",
   "execution_count": 9,
   "metadata": {},
   "outputs": [],
   "source": [
    "import torch.utils.data as pytorch_data_utils\n",
    "BATCH_SIZE = 16384 * 2\n",
    "dataset = torch.utils.data.TensorDataset(x, conditions)\n",
    "dataloader = torch.utils.data.DataLoader(dataset, batch_size=BATCH_SIZE, shuffle=True)"
   ]
  },
  {
   "cell_type": "markdown",
   "metadata": {},
   "source": [
    "## Training"
   ]
  },
  {
   "cell_type": "code",
   "execution_count": null,
   "metadata": {},
   "outputs": [
    {
     "name": "stdout",
     "output_type": "stream",
     "text": [
      "iter 148: loss = 11.051 0.0001\n"
     ]
    },
    {
     "data": {
      "image/png": "[encoded data removed]",
      "text/plain": [
       "<Figure size 432x288 with 1 Axes>"
      ]
     },
     "metadata": {
      "needs_background": "light"
     },
     "output_type": "display_data"
    },
    {
     "data": {
      "application/vnd.jupyter.widget-view+json": {
       "model_id": "a2026b4dfb6d427c8a31f5f7ec917ca5",
       "version_major": 2,
       "version_minor": 0
      },
      "text/plain": [
       "HBox(children=(IntProgress(value=0, max=8), HTML(value='')))"
      ]
     },
     "metadata": {},
     "output_type": "display_data"
    }
   ],
   "source": [
    "from tqdm import tqdm_notebook as tqdm\n",
    "\n",
    "trainable_parametrs = list(model.parameters()) \n",
    "optimizer = torch.optim.Adam(trainable_parametrs, lr=1e-4)\n",
    "losses = []\n",
    "scheduler = torch.optim.lr_scheduler.ReduceLROnPlateau(optimizer, 'min', factor=0.5, patience=100)\n",
    "\n",
    "B = 5000\n",
    "for epoch in tqdm(range(50000)):\n",
    "    for x_batch, cond_batch in tqdm(dataloader):\n",
    "        x_batch = x_batch.to(device)\n",
    "        cond_batch = cond_batch.to(device)\n",
    "\n",
    "        loss = compute_loss(model, data=x_batch + torch.randn(*x_batch.size()).float().to(device), condition=cond_batch)\n",
    "\n",
    "        if loss != loss:\n",
    "            continue\n",
    "\n",
    "        optimizer.zero_grad()\n",
    "        loss.backward()\n",
    "        optimizer.step()\n",
    "        losses.append(loss.item())\n",
    "        scheduler.step(loss)\n",
    "\n",
    "    clear_output()\n",
    "    print('iter %s:' % epoch, 'loss = %.3f' % loss, optimizer.param_groups[0]['lr'])\n",
    "    plt.figure()\n",
    "    plt.plot(losses)\n",
    "    # plt.ylim(1.1, 3)\n",
    "    plt.show()"
   ]
  },
  {
   "cell_type": "markdown",
   "metadata": {},
   "source": [
    "## Evalutation"
   ]
  },
  {
   "cell_type": "code",
   "execution_count": 11,
   "metadata": {},
   "outputs": [],
   "source": [
    "model.eval();\n",
    "sample_fn, density_fn = get_transforms(model)"
   ]
  },
  {
   "cell_type": "code",
   "execution_count": 12,
   "metadata": {},
   "outputs": [],
   "source": [
    "samples = sample_fn(torch.randn((len(conditions), 3)).float().to(device), conditions.to(device))"
   ]
  },
  {
   "cell_type": "code",
   "execution_count": 26,
   "metadata": {},
   "outputs": [
    {
     "data": {
      "text/plain": [
       "tensor([1., 2., 3., 4., 5., 6., 7., 8., 9.])"
      ]
     },
     "execution_count": 26,
     "metadata": {},
     "output_type": "execute_result"
    }
   ],
   "source": [
    "torch.unique(conditions[:, 0])"
   ]
  },
  {
   "cell_type": "code",
   "execution_count": 27,
   "metadata": {},
   "outputs": [
    {
     "data": {
      "text/plain": [
       "tensor([ 1.,  2.,  3.,  4.,  5.,  6.,  7.,  8.,  9., 10., 11., 12., 13., 14.])"
      ]
     },
     "execution_count": 27,
     "metadata": {},
     "output_type": "execute_result"
    }
   ],
   "source": [
    "torch.unique(conditions[:, 1])"
   ]
  },
  {
   "cell_type": "code",
   "execution_count": 43,
   "metadata": {},
   "outputs": [],
   "source": [
    "mask = ((conditions[:, 0] == 1) & (conditions[:, 1] == 1) & (samples[:, 2] > 0.01).detach().cpu()).numpy()"
   ]
  },
  {
   "cell_type": "code",
   "execution_count": 44,
   "metadata": {},
   "outputs": [
    {
     "data": {
      "text/plain": [
       "2000"
      ]
     },
     "execution_count": 44,
     "metadata": {},
     "output_type": "execute_result"
    }
   ],
   "source": [
    "mask.sum()"
   ]
  },
  {
   "cell_type": "code",
   "execution_count": 45,
   "metadata": {},
   "outputs": [],
   "source": [
    "samples_batch = samples[mask].detach().cpu().numpy()"
   ]
  },
  {
   "cell_type": "code",
   "execution_count": 46,
   "metadata": {},
   "outputs": [
    {
     "data": {
      "text/plain": [
       "<matplotlib.collections.PathCollection at 0x7f5c418e9e80>"
      ]
     },
     "execution_count": 46,
     "metadata": {},
     "output_type": "execute_result"
    },
    {
     "data": {
      "image/png": "[encoded data removed]",
      "text/plain": [
       "<Figure size 432x288 with 1 Axes>"
      ]
     },
     "metadata": {
      "needs_background": "light"
     },
     "output_type": "display_data"
    }
   ],
   "source": [
    "plt.scatter(samples_batch[:, 0], samples_batch[:, 1])"
   ]
  },
  {
   "cell_type": "code",
   "execution_count": 47,
   "metadata": {},
   "outputs": [
    {
     "data": {
      "text/plain": [
       "<matplotlib.collections.PathCollection at 0x7f5c401d8e10>"
      ]
     },
     "execution_count": 47,
     "metadata": {},
     "output_type": "execute_result"
    },
    {
     "data": {
      "image/png": "[encoded data removed]",
      "text/plain": [
       "<Figure size 432x288 with 1 Axes>"
      ]
     },
     "metadata": {
      "needs_background": "light"
     },
     "output_type": "display_data"
    }
   ],
   "source": [
    "plt.scatter(x[:, 0][mask], x[:, 1][mask])"
   ]
  },
  {
   "cell_type": "code",
   "execution_count": null,
   "metadata": {},
   "outputs": [],
   "source": []
  }
 ],
 "metadata": {
  "kernelspec": {
   "display_name": "Python 3",
   "language": "python",
   "name": "python3"
  },
  "language_info": {
   "codemirror_mode": {
    "name": "ipython",
    "version": 3
   },
   "file_extension": ".py",
   "mimetype": "text/x-python",
   "name": "python",
   "nbconvert_exporter": "python",
   "pygments_lexer": "ipython3",
   "version": "3.6.8"
  }
 },
 "nbformat": 4,
 "nbformat_minor": 2
}
