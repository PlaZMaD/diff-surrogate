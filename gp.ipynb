{
 "cells": [
  {
   "cell_type": "code",
   "execution_count": 1,
   "metadata": {},
   "outputs": [
    {
     "name": "stderr",
     "output_type": "stream",
     "text": [
      "100%|██████████| 100/100 [00:13<00:00,  7.42it/s]\n"
     ]
    }
   ],
   "source": [
    "%run -i model.ipynb"
   ]
  },
  {
   "cell_type": "markdown",
   "metadata": {},
   "source": [
    "## Traditional GP optimization with `Pyro`"
   ]
  },
  {
   "cell_type": "code",
   "execution_count": 2,
   "metadata": {},
   "outputs": [],
   "source": [
    "import pyro.contrib.gp as gp\n",
    "from torch.distributions import constraints, transform_to\n",
    "import torch.autograd as autograd\n",
    "import torch.optim as optim"
   ]
  },
  {
   "cell_type": "code",
   "execution_count": 21,
   "metadata": {},
   "outputs": [],
   "source": [
    "X = torch.tensor([[50.]])\n",
    "conditioned_y_sample = poutine.condition(y_sample, data={\"mu\": X})\n",
    "y = R(conditioned_y_sample()).view(1)\n",
    "\n",
    "gpmodel = gp.models.GPRegression(X=X, \n",
    "                                 y=y, \n",
    "                                 kernel=gp.kernels.Matern52(input_dim=1),\n",
    "                                 noise=torch.tensor(1., requires_grad=True), \n",
    "                                 jitter=1.0e-4)"
   ]
  },
  {
   "cell_type": "code",
   "execution_count": 22,
   "metadata": {},
   "outputs": [],
   "source": [
    "def update_posterior(x):\n",
    "    conditioned_y_sample = poutine.condition(y_sample, data={\"mu\": x})\n",
    "    y = R(conditioned_y_sample()).view(x.size(0))\n",
    "    \n",
    "    X = torch.cat([gpmodel.X, x])\n",
    "    y = torch.cat([gpmodel.y, y])\n",
    "    gpmodel.set_data(X, y)\n",
    "    \n",
    "    optimizer = torch.optim.Adam(gpmodel.parameters(), lr=1e-4)\n",
    "    gp.util.train(gpmodel, optimizer)"
   ]
  },
  {
   "cell_type": "code",
   "execution_count": 23,
   "metadata": {},
   "outputs": [],
   "source": [
    "def lower_confidence_bound(x, kappa=2):\n",
    "    mu, variance = gpmodel(x, full_cov=False, noiseless=False)\n",
    "    sigma = variance.sqrt()\n",
    "    return mu - kappa * sigma"
   ]
  },
  {
   "cell_type": "code",
   "execution_count": 24,
   "metadata": {},
   "outputs": [],
   "source": [
    "def find_a_candidate(x_init, lower_bound=0, upper_bound=1):\n",
    "    # transform x to an unconstrained domain\n",
    "    constraint = constraints.interval(lower_bound, upper_bound)\n",
    "    unconstrained_x_init = transform_to(constraint).inv(x_init)\n",
    "    unconstrained_x = unconstrained_x_init.clone().detach().requires_grad_(True)\n",
    "    minimizer = optim.LBFGS([unconstrained_x])\n",
    "\n",
    "    def closure():\n",
    "        minimizer.zero_grad()\n",
    "        x = transform_to(constraint)(unconstrained_x)\n",
    "        y = lower_confidence_bound(x)\n",
    "        autograd.backward(unconstrained_x, autograd.grad(y, unconstrained_x))\n",
    "        return y\n",
    "\n",
    "    minimizer.step(closure)\n",
    "    # after finding a candidate in the unconstrained domain,\n",
    "    # convert it back to original domain.\n",
    "    x = transform_to(constraint)(unconstrained_x)\n",
    "    return x.detach()"
   ]
  },
  {
   "cell_type": "code",
   "execution_count": 25,
   "metadata": {},
   "outputs": [],
   "source": [
    "def next_x(lower_bound=-100, upper_bound=100, num_candidates=5):\n",
    "    candidates = []\n",
    "    values = []\n",
    "\n",
    "    x_init = gpmodel.X[-1:]\n",
    "    for i in range(num_candidates):\n",
    "        x = find_a_candidate(x_init, lower_bound, upper_bound)\n",
    "        y = lower_confidence_bound(x)\n",
    "        candidates.append(x)\n",
    "        values.append(y)\n",
    "        x_init = x.new_empty(1, 1).uniform_(lower_bound, upper_bound)\n",
    "\n",
    "    argmin = torch.min(torch.cat(values), dim=0)[1].item()\n",
    "    return candidates[argmin]"
   ]
  },
  {
   "cell_type": "code",
   "execution_count": 26,
   "metadata": {},
   "outputs": [],
   "source": [
    "update_posterior(next_x())"
   ]
  },
  {
   "cell_type": "code",
   "execution_count": null,
   "metadata": {},
   "outputs": [],
   "source": [
    "def plot(gs, xmin, xlabel=None, with_title=True):\n",
    "    xlabel = \"xmin\" if xlabel is None else \"x{}\".format(xlabel)\n",
    "    Xnew = torch.linspace(-0.1, 1.1)\n",
    "    ax1 = plt.subplot(gs[0])\n",
    "    ax1.plot(gpmodel.X.numpy(), gpmodel.y.numpy(), \"kx\")  # plot all observed data\n",
    "    with torch.no_grad():\n",
    "        loc, var = gpmodel(Xnew, full_cov=False, noiseless=False)\n",
    "        sd = var.sqrt()\n",
    "        ax1.plot(Xnew.numpy(), loc.numpy(), \"r\", lw=2)  # plot predictive mean\n",
    "        ax1.fill_between(Xnew.numpy(), loc.numpy() - 2*sd.numpy(), loc.numpy() + 2*sd.numpy(),\n",
    "                         color=\"C0\", alpha=0.3)  # plot uncertainty intervals\n",
    "    ax1.set_xlim(-0.1, 1.1)\n",
    "    ax1.set_title(\"Find {}\".format(xlabel))\n",
    "    if with_title:\n",
    "        ax1.set_ylabel(\"Gaussian Process Regression\")\n",
    "\n",
    "    ax2 = plt.subplot(gs[1])\n",
    "    with torch.no_grad():\n",
    "        # plot the acquisition function\n",
    "        ax2.plot(Xnew.numpy(), lower_confidence_bound(Xnew).numpy())\n",
    "        # plot the new candidate point\n",
    "        ax2.plot(xmin.numpy(), lower_confidence_bound(xmin).numpy(), \"^\", markersize=10,\n",
    "                 label=\"{} = {:.5f}\".format(xlabel, xmin.item()))\n",
    "    ax2.set_xlim(-0.1, 1.1)\n",
    "    if with_title:\n",
    "        ax2.set_ylabel(\"Acquisition Function\")\n",
    "    ax2.legend(loc=1)"
   ]
  },
  {
   "cell_type": "code",
   "execution_count": null,
   "metadata": {
    "scrolled": false
   },
   "outputs": [
    {
     "data": {
      "image/png": "[encoded data removed]",
      "text/plain": [
       "<Figure size 864x576 with 1 Axes>"
      ]
     },
     "metadata": {
      "needs_background": "light"
     },
     "output_type": "display_data"
    },
    {
     "name": "stderr",
     "output_type": "stream",
     "text": [
      "\n",
      "\n",
      " 11%|█         | 54/500 [03:01<35:05,  4.72s/it]\u001b[A\u001b[A"
     ]
    }
   ],
   "source": [
    "import matplotlib.gridspec as gridspec\n",
    "from IPython.display import clear_output\n",
    "N = 500\n",
    "\n",
    "optimizer = torch.optim.Adam(gpmodel.parameters(), lr=0.001)\n",
    "gp.util.train(gpmodel, optimizer)\n",
    "for i in tqdm.tqdm(range(N)):\n",
    "    xmin = next_x()\n",
    "    update_posterior(xmin)\n",
    "    clear_output()\n",
    "    \n",
    "    plt.figure(figsize=(12, 8))\n",
    "    X = gpmodel.X\n",
    "    \n",
    "    X, _ = torch.sort(X, dim=0)\n",
    "    loc, var = gpmodel(X, full_cov=False, noiseless=False)\n",
    "    sd = var.sqrt()\n",
    "    plt.scatter(X.detach().numpy().ravel(), loc.detach().numpy(), c=\"r\", lw=2)  # plot predictive mean\n",
    "    plt.fill_between(X.detach().numpy().ravel(), \n",
    "                     loc.detach().numpy() - 2*sd.detach().numpy(), \n",
    "                     loc.detach().numpy() + 2*sd.detach().numpy(),\n",
    "                     color=\"C0\", alpha=0.3)  # plot uncertainty intervals\n",
    "    plt.show()\n"
   ]
  },
  {
   "cell_type": "code",
   "execution_count": null,
   "metadata": {},
   "outputs": [],
   "source": [
    "plt.figure(figsize=(12, 8))\n",
    "X = gpmodel.X\n",
    "\n",
    "X, _ = torch.sort(X, dim=0)\n",
    "loc, var = gpmodel(X, full_cov=False, noiseless=False)\n",
    "sd = var.sqrt()\n",
    "plt.scatter(X.detach().numpy().ravel(), loc.detach().numpy(), c=\"r\", lw=2)  # plot predictive mean\n",
    "plt.fill_between(X.detach().numpy().ravel(), \n",
    "                 loc.detach().numpy() - 2*sd.detach().numpy(), \n",
    "                 loc.detach().numpy() + 2*sd.detach().numpy(),\n",
    "                 color=\"C0\", alpha=0.3)  # plot uncertainty intervals\n",
    "plt.show()"
   ]
  },
  {
   "cell_type": "code",
   "execution_count": null,
   "metadata": {},
   "outputs": [],
   "source": []
  }
 ],
 "metadata": {
  "kernelspec": {
   "display_name": "Python 3",
   "language": "python",
   "name": "python3"
  },
  "language_info": {
   "codemirror_mode": {
    "name": "ipython",
    "version": 3
   },
   "file_extension": ".py",
   "mimetype": "text/x-python",
   "name": "python",
   "nbconvert_exporter": "python",
   "pygments_lexer": "ipython3",
   "version": "3.6.7"
  }
 },
 "nbformat": 4,
 "nbformat_minor": 2
}
