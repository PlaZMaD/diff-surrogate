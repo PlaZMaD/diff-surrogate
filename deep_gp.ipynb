{
 "cells": [
  {
   "cell_type": "code",
   "execution_count": null,
   "metadata": {},
   "outputs": [],
   "source": [
    "%run -i model.ipynb"
   ]
  },
  {
   "cell_type": "markdown",
   "metadata": {},
   "source": [
    "## Deep GP for density estimation\n",
    "\n",
    "http://adamian.github.io/talks/Damianou_NIPS17.pdf\n",
    "\n",
    "http://bayesiandeeplearning.org/2017/papers/69.pdf"
   ]
  },
  {
   "cell_type": "markdown",
   "metadata": {},
   "source": [
    "Recovering \n",
    "\n",
    "$$p(y | \\mu)$$\n",
    "\n",
    "$$p(r | \\mu)$$\n",
    "\n",
    "\n",
    "1. Add DeepKernelLearning\n",
    "\n",
    "2. Add RealNVP to output(?)\n",
    "\n"
   ]
  },
  {
   "cell_type": "code",
   "execution_count": null,
   "metadata": {},
   "outputs": [],
   "source": [
    "import pyro\n",
    "import pyro.distributions as dist\n",
    "import pyro.contrib.gp as gp\n",
    "import torch\n",
    "from torch import nn\n",
    "\n",
    "import pyro.infer as infer"
   ]
  },
  {
   "cell_type": "code",
   "execution_count": null,
   "metadata": {},
   "outputs": [],
   "source": [
    "deep_kernel_nn = nn.Sequential(nn.Linear(1, 10), nn.ReLU(), \n",
    "                            nn.Linear(10, 10), nn.ReLU(), \n",
    "                            nn.Linear(10, 1))"
   ]
  },
  {
   "cell_type": "code",
   "execution_count": null,
   "metadata": {},
   "outputs": [],
   "source": [
    "rbf = gp.kernels.RBF(input_dim=1)"
   ]
  },
  {
   "cell_type": "code",
   "execution_count": null,
   "metadata": {},
   "outputs": [],
   "source": [
    "deep_kernel_pyro = lambda x: pyro.module(\"deep_kernel\", deep_kernel_nn)(x)"
   ]
  },
  {
   "cell_type": "code",
   "execution_count": null,
   "metadata": {},
   "outputs": [],
   "source": [
    "deep_kernel_pyro = gp.kernels.Warping(rbf, deep_kernel_pyro)"
   ]
  },
  {
   "cell_type": "code",
   "execution_count": null,
   "metadata": {},
   "outputs": [],
   "source": [
    "likelihood = gp.likelihoods.Gaussian(variance=torch.tensor(1.))"
   ]
  },
  {
   "cell_type": "code",
   "execution_count": null,
   "metadata": {},
   "outputs": [],
   "source": [
    "mu_range = (-50, 50)"
   ]
  },
  {
   "cell_type": "code",
   "execution_count": null,
   "metadata": {},
   "outputs": [],
   "source": [
    "x = ((mu_range[0] - mu_range[1]) * (torch.rand(10000)) + mu_range[1]) #.to(device)\n",
    "\n",
    "with pyro.condition(data={\"mu\": x}):\n",
    "    y = y_sample().detach()"
   ]
  },
  {
   "cell_type": "code",
   "execution_count": null,
   "metadata": {},
   "outputs": [],
   "source": [
    "gpmodule = gp.models.GPRegression(X=x.view(-1, 1), y=y, \n",
    "                                   kernel=deep_kernel_pyro)\n",
    "                                   # likelihood=likelihood,\n",
    "                                  #whiten=True)"
   ]
  },
  {
   "cell_type": "code",
   "execution_count": null,
   "metadata": {},
   "outputs": [],
   "source": []
  },
  {
   "cell_type": "code",
   "execution_count": null,
   "metadata": {
    "scrolled": true
   },
   "outputs": [],
   "source": [
    "# optimizer = torch.optim.Adam(gpmodule.parameters(), lr=1e-4)\n",
    "# gp.util.train(gpmodule, optimizer)"
   ]
  },
  {
   "cell_type": "code",
   "execution_count": null,
   "metadata": {},
   "outputs": [],
   "source": [
    "optimizer = torch.optim.Adam(gpmodule.parameters(), lr=1e-1)\n",
    "elbo = infer.TraceMeanField_ELBO()\n",
    "loss_fn = elbo.differentiable_loss\n",
    "# csis = infer.CSIS(gpmodule.model, gpmodule.guide, optimizer)"
   ]
  },
  {
   "cell_type": "code",
   "execution_count": null,
   "metadata": {},
   "outputs": [],
   "source": [
    "for i in range(1000):\n",
    "    optimizer.zero_grad()\n",
    "    loss = loss_fn(gpmodule.model, gpmodule.guide)\n",
    "    loss.backward()\n",
    "    optimizer.step()\n",
    "    if i % 50 == 0:\n",
    "        print(loss.item())"
   ]
  },
  {
   "cell_type": "code",
   "execution_count": null,
   "metadata": {
    "scrolled": false
   },
   "outputs": [],
   "source": [
    "loc, sd = gpmodule(gpmodule.X)"
   ]
  },
  {
   "cell_type": "code",
   "execution_count": null,
   "metadata": {},
   "outputs": [],
   "source": [
    "plt.scatter(gpmodule.X.detach().cpu().numpy().ravel(), loc.detach().cpu().numpy())"
   ]
  },
  {
   "cell_type": "code",
   "execution_count": null,
   "metadata": {},
   "outputs": [],
   "source": [
    "plt.scatter(gpmodule.X.detach().cpu().numpy().ravel(), gpmodule.y.detach().cpu().numpy())"
   ]
  },
  {
   "cell_type": "code",
   "execution_count": null,
   "metadata": {},
   "outputs": [],
   "source": [
    "loss"
   ]
  },
  {
   "cell_type": "code",
   "execution_count": null,
   "metadata": {},
   "outputs": [],
   "source": []
  },
  {
   "cell_type": "code",
   "execution_count": null,
   "metadata": {},
   "outputs": [],
   "source": []
  },
  {
   "cell_type": "code",
   "execution_count": null,
   "metadata": {},
   "outputs": [],
   "source": [
    "gp.kernels.Sum()"
   ]
  }
 ],
 "metadata": {
  "kernelspec": {
   "display_name": "Python 3",
   "language": "python",
   "name": "python3"
  },
  "language_info": {
   "codemirror_mode": {
    "name": "ipython",
    "version": 3
   },
   "file_extension": ".py",
   "mimetype": "text/x-python",
   "name": "python",
   "nbconvert_exporter": "python",
   "pygments_lexer": "ipython3",
   "version": "3.6.7"
  }
 },
 "nbformat": 4,
 "nbformat_minor": 2
}
