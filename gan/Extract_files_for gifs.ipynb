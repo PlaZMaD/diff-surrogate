{
 "cells": [
  {
   "cell_type": "code",
   "execution_count": 20,
   "metadata": {},
   "outputs": [
    {
     "data": {
      "text/plain": [
       "['shir994']"
      ]
     },
     "execution_count": 20,
     "metadata": {},
     "output_type": "execute_result"
    }
   ],
   "source": [
    "from comet_ml import API\n",
    "import comet_ml\n",
    "import io\n",
    "import os\n",
    "\n",
    "comet_api = API()\n",
    "comet_api.get()"
   ]
  },
  {
   "cell_type": "code",
   "execution_count": 12,
   "metadata": {},
   "outputs": [],
   "source": [
    "exp = comet_api.get(\"shir994/2d-plots/20929bdf0dad4abead53d56668e8afee\")\n",
    "# hyper_params = {}\n",
    "# for param in exp.parameters:\n",
    "#     hyper_params[param[\"name\"]] = param[\"valueMin\"]"
   ]
  },
  {
   "cell_type": "code",
   "execution_count": 24,
   "metadata": {},
   "outputs": [],
   "source": [
    "!rm /home/shirobokov/data/diff_gen_data/gif_plots/*"
   ]
  },
  {
   "cell_type": "code",
   "execution_count": 13,
   "metadata": {},
   "outputs": [],
   "source": [
    "import urllib\n",
    "def save_file(url, index):\n",
    "    filedata = urllib.request.urlopen(url)\n",
    "    datatowrite = filedata.read()\n",
    "\n",
    "    with open(os.path.join('/home/shirobokov/data/diff_gen_data/gif_plots', index + \".svg\"), 'wb') as f:\n",
    "        f.write(datatowrite)"
   ]
  },
  {
   "cell_type": "code",
   "execution_count": 25,
   "metadata": {},
   "outputs": [
    {
     "data": {
      "text/plain": [
       "'grads_335'"
      ]
     },
     "execution_count": 25,
     "metadata": {},
     "output_type": "execute_result"
    }
   ],
   "source": [
    "image[\"figName\"]"
   ]
  },
  {
   "cell_type": "code",
   "execution_count": 27,
   "metadata": {},
   "outputs": [],
   "source": [
    "for image in exp.images:\n",
    "    parsed_list = image[\"figName\"].split(\"_\")\n",
    "    if \"loss\" == parsed_list[0]:\n",
    "        #name, index = image[\"figName\"].split(\"_\")\n",
    "        index = image[\"figName\"].split(\"_\")[-1]\n",
    "        if int(index) > 100:\n",
    "            continue\n",
    "        save_file(image[\"imagePath\"], str(index))"
   ]
  },
  {
   "cell_type": "code",
   "execution_count": null,
   "metadata": {},
   "outputs": [],
   "source": []
  }
 ],
 "metadata": {
  "kernelspec": {
   "display_name": "Python 3",
   "language": "python",
   "name": "python3"
  },
  "language_info": {
   "codemirror_mode": {
    "name": "ipython",
    "version": 3
   },
   "file_extension": ".py",
   "mimetype": "text/x-python",
   "name": "python",
   "nbconvert_exporter": "python",
   "pygments_lexer": "ipython3",
   "version": "3.7.3"
  },
  "toc": {
   "base_numbering": 1,
   "nav_menu": {},
   "number_sections": true,
   "sideBar": true,
   "skip_h1_title": false,
   "title_cell": "Table of Contents",
   "title_sidebar": "Contents",
   "toc_cell": false,
   "toc_position": {},
   "toc_section_display": true,
   "toc_window_display": false
  }
 },
 "nbformat": 4,
 "nbformat_minor": 2
}
